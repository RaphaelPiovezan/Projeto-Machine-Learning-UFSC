{
  "cells": [
    {
      "cell_type": "code",
      "execution_count": 2,
      "metadata": {
        "id": "Zh7Nh2hN1GIH"
      },
      "outputs": [],
      "source": [
        "import pandas as pd\n",
        "import numpy as np\n",
        "from sklearn.metrics import mean_absolute_percentage_error, \\\n",
        "  mean_absolute_error, r2_score, mean_squared_error, accuracy_score, precision_score, f1_score, roc_auc_score\n",
        "import matplotlib.pyplot as plt"
      ]
    },
    {
      "cell_type": "code",
      "execution_count": 3,
      "metadata": {
        "id": "-0pkDN1UFW5M"
      },
      "outputs": [],
      "source": [
        "df_returns = pd.DataFrame()"
      ]
    },
    {
      "cell_type": "code",
      "execution_count": 4,
      "metadata": {
        "id": "yBvUzJN1Fc8I"
      },
      "outputs": [],
      "source": [
        "df_returns = pd.read_csv('IBRX-returns.csv', index_col=0, parse_dates=True)\n",
        "df = pd.read_csv('IBRX100.csv', index_col=0, parse_dates=True)\n",
        "\n",
        "#for name in df.columns:\n",
        "#  df_returns[name] = np.log(df[name]).diff()"
      ]
    },
    {
      "cell_type": "code",
      "execution_count": 5,
      "metadata": {},
      "outputs": [
        {
          "data": {
            "text/plain": [
              "0"
            ]
          },
          "execution_count": 5,
          "metadata": {},
          "output_type": "execute_result"
        }
      ],
      "source": [
        "df.isna().sum().sum()"
      ]
    },
    {
      "cell_type": "code",
      "execution_count": 6,
      "metadata": {
        "colab": {
          "base_uri": "https://localhost:8080/",
          "height": 369
        },
        "id": "IbLSX5pYFpMr",
        "outputId": "ba722998-d423-403b-d6e1-875d1115ad75"
      },
      "outputs": [
        {
          "data": {
            "text/html": [
              "<div>\n",
              "<style scoped>\n",
              "    .dataframe tbody tr th:only-of-type {\n",
              "        vertical-align: middle;\n",
              "    }\n",
              "\n",
              "    .dataframe tbody tr th {\n",
              "        vertical-align: top;\n",
              "    }\n",
              "\n",
              "    .dataframe thead th {\n",
              "        text-align: right;\n",
              "    }\n",
              "</style>\n",
              "<table border=\"1\" class=\"dataframe\">\n",
              "  <thead>\n",
              "    <tr style=\"text-align: right;\">\n",
              "      <th></th>\n",
              "      <th>VALE3.SA</th>\n",
              "      <th>PETR4.SA</th>\n",
              "      <th>PETR3.SA</th>\n",
              "      <th>ITUB4.SA</th>\n",
              "      <th>BBDC4.SA</th>\n",
              "      <th>B3SA3.SA</th>\n",
              "      <th>ABEV3.SA</th>\n",
              "      <th>JBSS3.SA</th>\n",
              "      <th>WEGE3.SA</th>\n",
              "      <th>SUZB3.SA</th>\n",
              "      <th>ITSA4.SA</th>\n",
              "      <th>BBAS3.SA</th>\n",
              "      <th>BRAX11.SA</th>\n",
              "      <th>BOVA11.SA</th>\n",
              "    </tr>\n",
              "    <tr>\n",
              "      <th>Date</th>\n",
              "      <th></th>\n",
              "      <th></th>\n",
              "      <th></th>\n",
              "      <th></th>\n",
              "      <th></th>\n",
              "      <th></th>\n",
              "      <th></th>\n",
              "      <th></th>\n",
              "      <th></th>\n",
              "      <th></th>\n",
              "      <th></th>\n",
              "      <th></th>\n",
              "      <th></th>\n",
              "      <th></th>\n",
              "    </tr>\n",
              "  </thead>\n",
              "  <tbody>\n",
              "    <tr>\n",
              "      <th>2012-01-02</th>\n",
              "      <td>NaN</td>\n",
              "      <td>NaN</td>\n",
              "      <td>NaN</td>\n",
              "      <td>NaN</td>\n",
              "      <td>NaN</td>\n",
              "      <td>NaN</td>\n",
              "      <td>NaN</td>\n",
              "      <td>NaN</td>\n",
              "      <td>NaN</td>\n",
              "      <td>NaN</td>\n",
              "      <td>NaN</td>\n",
              "      <td>NaN</td>\n",
              "      <td>NaN</td>\n",
              "      <td>NaN</td>\n",
              "    </tr>\n",
              "    <tr>\n",
              "      <th>2012-01-03</th>\n",
              "      <td>0.043537</td>\n",
              "      <td>0.030814</td>\n",
              "      <td>0.034304</td>\n",
              "      <td>0.024671</td>\n",
              "      <td>0.020945</td>\n",
              "      <td>0.017285</td>\n",
              "      <td>-0.011462</td>\n",
              "      <td>0.029801</td>\n",
              "      <td>0.023306</td>\n",
              "      <td>0.0</td>\n",
              "      <td>0.029193</td>\n",
              "      <td>-0.004539</td>\n",
              "      <td>0.021995</td>\n",
              "      <td>0.023738</td>\n",
              "    </tr>\n",
              "    <tr>\n",
              "      <th>2012-01-04</th>\n",
              "      <td>0.006765</td>\n",
              "      <td>0.007114</td>\n",
              "      <td>0.006225</td>\n",
              "      <td>0.001146</td>\n",
              "      <td>0.001593</td>\n",
              "      <td>0.017983</td>\n",
              "      <td>-0.023517</td>\n",
              "      <td>0.018820</td>\n",
              "      <td>0.005222</td>\n",
              "      <td>0.0</td>\n",
              "      <td>0.001742</td>\n",
              "      <td>-0.004975</td>\n",
              "      <td>0.000000</td>\n",
              "      <td>0.000000</td>\n",
              "    </tr>\n",
              "    <tr>\n",
              "      <th>2012-01-05</th>\n",
              "      <td>-0.027102</td>\n",
              "      <td>-0.011587</td>\n",
              "      <td>-0.006225</td>\n",
              "      <td>-0.007473</td>\n",
              "      <td>-0.006388</td>\n",
              "      <td>-0.010951</td>\n",
              "      <td>-0.019997</td>\n",
              "      <td>0.016807</td>\n",
              "      <td>0.006231</td>\n",
              "      <td>0.0</td>\n",
              "      <td>-0.004361</td>\n",
              "      <td>-0.010445</td>\n",
              "      <td>-0.009189</td>\n",
              "      <td>-0.013620</td>\n",
              "    </tr>\n",
              "    <tr>\n",
              "      <th>2012-01-06</th>\n",
              "      <td>-0.008637</td>\n",
              "      <td>0.000896</td>\n",
              "      <td>-0.000833</td>\n",
              "      <td>0.007473</td>\n",
              "      <td>0.012419</td>\n",
              "      <td>0.014903</td>\n",
              "      <td>-0.002528</td>\n",
              "      <td>0.011599</td>\n",
              "      <td>-0.011453</td>\n",
              "      <td>0.0</td>\n",
              "      <td>0.005231</td>\n",
              "      <td>-0.025522</td>\n",
              "      <td>-0.000250</td>\n",
              "      <td>0.002427</td>\n",
              "    </tr>\n",
              "  </tbody>\n",
              "</table>\n",
              "</div>"
            ],
            "text/plain": [
              "            VALE3.SA  PETR4.SA  PETR3.SA  ITUB4.SA  BBDC4.SA  B3SA3.SA  \\\n",
              "Date                                                                     \n",
              "2012-01-02       NaN       NaN       NaN       NaN       NaN       NaN   \n",
              "2012-01-03  0.043537  0.030814  0.034304  0.024671  0.020945  0.017285   \n",
              "2012-01-04  0.006765  0.007114  0.006225  0.001146  0.001593  0.017983   \n",
              "2012-01-05 -0.027102 -0.011587 -0.006225 -0.007473 -0.006388 -0.010951   \n",
              "2012-01-06 -0.008637  0.000896 -0.000833  0.007473  0.012419  0.014903   \n",
              "\n",
              "            ABEV3.SA  JBSS3.SA  WEGE3.SA  SUZB3.SA  ITSA4.SA  BBAS3.SA  \\\n",
              "Date                                                                     \n",
              "2012-01-02       NaN       NaN       NaN       NaN       NaN       NaN   \n",
              "2012-01-03 -0.011462  0.029801  0.023306       0.0  0.029193 -0.004539   \n",
              "2012-01-04 -0.023517  0.018820  0.005222       0.0  0.001742 -0.004975   \n",
              "2012-01-05 -0.019997  0.016807  0.006231       0.0 -0.004361 -0.010445   \n",
              "2012-01-06 -0.002528  0.011599 -0.011453       0.0  0.005231 -0.025522   \n",
              "\n",
              "            BRAX11.SA  BOVA11.SA  \n",
              "Date                              \n",
              "2012-01-02        NaN        NaN  \n",
              "2012-01-03   0.021995   0.023738  \n",
              "2012-01-04   0.000000   0.000000  \n",
              "2012-01-05  -0.009189  -0.013620  \n",
              "2012-01-06  -0.000250   0.002427  "
            ]
          },
          "execution_count": 6,
          "metadata": {},
          "output_type": "execute_result"
        }
      ],
      "source": [
        "df_returns.head()"
      ]
    },
    {
      "cell_type": "code",
      "execution_count": 7,
      "metadata": {
        "colab": {
          "base_uri": "https://localhost:8080/"
        },
        "id": "L3CLcqhl9p_a",
        "outputId": "cdef34f1-c974-48ef-9a90-3ad4a3e7dc37"
      },
      "outputs": [
        {
          "data": {
            "text/plain": [
              "Date\n",
              "2022-01-19    0.008136\n",
              "2022-01-20   -0.001908\n",
              "2022-01-21   -0.005939\n",
              "2022-01-24    0.021388\n",
              "2022-01-25         NaN\n",
              "Name: BOVA11.SA, dtype: float64"
            ]
          },
          "execution_count": 7,
          "metadata": {},
          "output_type": "execute_result"
        }
      ],
      "source": [
        "df_returns['BOVA11.SA'] = df_returns['BOVA11.SA'].shift(-1)\n",
        "df_returns['BOVA11.SA'].tail()"
      ]
    },
    {
      "cell_type": "code",
      "execution_count": 8,
      "metadata": {
        "id": "F5m1g8Z8376j"
      },
      "outputs": [],
      "source": [
        "Ntest = 1000\n",
        "train = df_returns.iloc[1:-Ntest]\n",
        "test = df_returns.iloc[-Ntest:-1]"
      ]
    },
    {
      "cell_type": "code",
      "execution_count": 9,
      "metadata": {
        "colab": {
          "base_uri": "https://localhost:8080/"
        },
        "id": "lChhe3784RHB",
        "outputId": "f017133e-edbe-4763-85a8-88b42a7d0653"
      },
      "outputs": [
        {
          "data": {
            "text/plain": [
              "Index(['VALE3.SA', 'PETR4.SA', 'PETR3.SA', 'ITUB4.SA', 'BBDC4.SA', 'B3SA3.SA',\n",
              "       'ABEV3.SA', 'JBSS3.SA', 'WEGE3.SA', 'SUZB3.SA', 'ITSA4.SA', 'BBAS3.SA',\n",
              "       'BRAX11.SA', 'BOVA11.SA'],\n",
              "      dtype='object')"
            ]
          },
          "execution_count": 9,
          "metadata": {},
          "output_type": "execute_result"
        }
      ],
      "source": [
        "df_returns.columns"
      ]
    },
    {
      "cell_type": "code",
      "execution_count": 10,
      "metadata": {
        "colab": {
          "base_uri": "https://localhost:8080/"
        },
        "id": "UZIgiaux4HiJ",
        "outputId": "f21ab50e-b5ad-411c-f1e6-7b92ae5b42dc"
      },
      "outputs": [
        {
          "data": {
            "text/plain": [
              "['VALE3.SA',\n",
              " 'PETR4.SA',\n",
              " 'PETR3.SA',\n",
              " 'ITUB4.SA',\n",
              " 'BBDC4.SA',\n",
              " 'B3SA3.SA',\n",
              " 'ABEV3.SA',\n",
              " 'JBSS3.SA',\n",
              " 'WEGE3.SA',\n",
              " 'SUZB3.SA',\n",
              " 'ITSA4.SA',\n",
              " 'BBAS3.SA']"
            ]
          },
          "execution_count": 10,
          "metadata": {},
          "output_type": "execute_result"
        }
      ],
      "source": [
        "# x_cols = df.columns.drop('SPY')\n",
        "x_cols = ['VALE3.SA', 'PETR4.SA', 'PETR3.SA', 'ITUB4.SA', 'BBDC4.SA', 'B3SA3.SA',\n",
        "          'ABEV3.SA', 'JBSS3.SA', 'WEGE3.SA', 'SUZB3.SA', 'ITSA4.SA', 'BBAS3.SA']\n",
        "x_cols"
      ]
    },
    {
      "cell_type": "code",
      "execution_count": 11,
      "metadata": {},
      "outputs": [
        {
          "data": {
            "text/plain": [
              "(array([14610., 15340., 16071., 16801., 17532., 18262., 18993.]),\n",
              " [Text(0, 0, ''),\n",
              "  Text(0, 0, ''),\n",
              "  Text(0, 0, ''),\n",
              "  Text(0, 0, ''),\n",
              "  Text(0, 0, ''),\n",
              "  Text(0, 0, ''),\n",
              "  Text(0, 0, '')])"
            ]
          },
          "execution_count": 11,
          "metadata": {},
          "output_type": "execute_result"
        },
        {
          "data": {
            "image/png": "[encoded data removed]",
            "text/plain": [
              "<Figure size 2000x1000 with 1 Axes>"
            ]
          },
          "metadata": {},
          "output_type": "display_data"
        }
      ],
      "source": [
        "df[['VALE3.SA', 'PETR4.SA', 'PETR3.SA', 'ITUB4.SA', 'BBDC4.SA', 'B3SA3.SA',\n",
        "          'ABEV3.SA', 'JBSS3.SA', 'WEGE3.SA', 'SUZB3.SA', 'ITSA4.SA', 'BBAS3.SA', 'BOVA11.SA']].plot( figsize=(20,10));\n",
        "plt.xlabel(\"Year\", fontsize=22)\n",
        "plt.ylabel(\"Price in BRL\", fontsize=22)\n",
        "plt.yticks(size=18)\n",
        "plt.xticks(size=18)\n",
        "#plt.savefig('BR-STOCKS.PDF', format='PDF')"
      ]
    },
    {
      "cell_type": "code",
      "execution_count": 12,
      "metadata": {
        "id": "1aZC9Hvd4CsD"
      },
      "outputs": [],
      "source": [
        "Xtrain = train[x_cols]\n",
        "Ytrain = train['BOVA11.SA']\n",
        "Xtest = test[x_cols]\n",
        "Ytest = test['BOVA11.SA']"
      ]
    },
    {
      "cell_type": "code",
      "execution_count": 13,
      "metadata": {},
      "outputs": [
        {
          "data": {
            "text/plain": [
              "Date\n",
              "2018-01-10    0.013924\n",
              "2018-01-11    0.000130\n",
              "2018-01-12    0.005204\n",
              "2018-01-15   -0.000130\n",
              "2018-01-16    0.017367\n",
              "Name: BOVA11.SA, dtype: float64"
            ]
          },
          "execution_count": 13,
          "metadata": {},
          "output_type": "execute_result"
        }
      ],
      "source": [
        "Ytest.head()"
      ]
    },
    {
      "cell_type": "code",
      "execution_count": 14,
      "metadata": {
        "colab": {
          "base_uri": "https://localhost:8080/",
          "height": 235
        },
        "id": "dRgg9f4Q78lk",
        "outputId": "e30d9c70-afcb-41fc-f878-b4bc4734adf8"
      },
      "outputs": [
        {
          "data": {
            "text/html": [
              "<div>\n",
              "<style scoped>\n",
              "    .dataframe tbody tr th:only-of-type {\n",
              "        vertical-align: middle;\n",
              "    }\n",
              "\n",
              "    .dataframe tbody tr th {\n",
              "        vertical-align: top;\n",
              "    }\n",
              "\n",
              "    .dataframe thead th {\n",
              "        text-align: right;\n",
              "    }\n",
              "</style>\n",
              "<table border=\"1\" class=\"dataframe\">\n",
              "  <thead>\n",
              "    <tr style=\"text-align: right;\">\n",
              "      <th></th>\n",
              "      <th>VALE3.SA</th>\n",
              "      <th>PETR4.SA</th>\n",
              "      <th>PETR3.SA</th>\n",
              "      <th>ITUB4.SA</th>\n",
              "      <th>BBDC4.SA</th>\n",
              "      <th>B3SA3.SA</th>\n",
              "      <th>ABEV3.SA</th>\n",
              "      <th>JBSS3.SA</th>\n",
              "      <th>WEGE3.SA</th>\n",
              "      <th>SUZB3.SA</th>\n",
              "      <th>ITSA4.SA</th>\n",
              "      <th>BBAS3.SA</th>\n",
              "    </tr>\n",
              "    <tr>\n",
              "      <th>Date</th>\n",
              "      <th></th>\n",
              "      <th></th>\n",
              "      <th></th>\n",
              "      <th></th>\n",
              "      <th></th>\n",
              "      <th></th>\n",
              "      <th></th>\n",
              "      <th></th>\n",
              "      <th></th>\n",
              "      <th></th>\n",
              "      <th></th>\n",
              "      <th></th>\n",
              "    </tr>\n",
              "  </thead>\n",
              "  <tbody>\n",
              "    <tr>\n",
              "      <th>2012-01-03</th>\n",
              "      <td>0.043537</td>\n",
              "      <td>0.030814</td>\n",
              "      <td>0.034304</td>\n",
              "      <td>0.024671</td>\n",
              "      <td>0.020945</td>\n",
              "      <td>0.017285</td>\n",
              "      <td>-0.011462</td>\n",
              "      <td>0.029801</td>\n",
              "      <td>0.023306</td>\n",
              "      <td>0.0</td>\n",
              "      <td>0.029193</td>\n",
              "      <td>-0.004539</td>\n",
              "    </tr>\n",
              "    <tr>\n",
              "      <th>2012-01-04</th>\n",
              "      <td>0.006765</td>\n",
              "      <td>0.007114</td>\n",
              "      <td>0.006225</td>\n",
              "      <td>0.001146</td>\n",
              "      <td>0.001593</td>\n",
              "      <td>0.017983</td>\n",
              "      <td>-0.023517</td>\n",
              "      <td>0.018820</td>\n",
              "      <td>0.005222</td>\n",
              "      <td>0.0</td>\n",
              "      <td>0.001742</td>\n",
              "      <td>-0.004975</td>\n",
              "    </tr>\n",
              "    <tr>\n",
              "      <th>2012-01-05</th>\n",
              "      <td>-0.027102</td>\n",
              "      <td>-0.011587</td>\n",
              "      <td>-0.006225</td>\n",
              "      <td>-0.007473</td>\n",
              "      <td>-0.006388</td>\n",
              "      <td>-0.010951</td>\n",
              "      <td>-0.019997</td>\n",
              "      <td>0.016807</td>\n",
              "      <td>0.006231</td>\n",
              "      <td>0.0</td>\n",
              "      <td>-0.004361</td>\n",
              "      <td>-0.010445</td>\n",
              "    </tr>\n",
              "    <tr>\n",
              "      <th>2012-01-06</th>\n",
              "      <td>-0.008637</td>\n",
              "      <td>0.000896</td>\n",
              "      <td>-0.000833</td>\n",
              "      <td>0.007473</td>\n",
              "      <td>0.012419</td>\n",
              "      <td>0.014903</td>\n",
              "      <td>-0.002528</td>\n",
              "      <td>0.011599</td>\n",
              "      <td>-0.011453</td>\n",
              "      <td>0.0</td>\n",
              "      <td>0.005231</td>\n",
              "      <td>-0.025522</td>\n",
              "    </tr>\n",
              "    <tr>\n",
              "      <th>2012-01-09</th>\n",
              "      <td>-0.001206</td>\n",
              "      <td>0.013345</td>\n",
              "      <td>0.019803</td>\n",
              "      <td>0.006280</td>\n",
              "      <td>0.002528</td>\n",
              "      <td>0.015656</td>\n",
              "      <td>-0.001949</td>\n",
              "      <td>-0.033504</td>\n",
              "      <td>0.000000</td>\n",
              "      <td>0.0</td>\n",
              "      <td>0.006932</td>\n",
              "      <td>0.008153</td>\n",
              "    </tr>\n",
              "  </tbody>\n",
              "</table>\n",
              "</div>"
            ],
            "text/plain": [
              "            VALE3.SA  PETR4.SA  PETR3.SA  ITUB4.SA  BBDC4.SA  B3SA3.SA  \\\n",
              "Date                                                                     \n",
              "2012-01-03  0.043537  0.030814  0.034304  0.024671  0.020945  0.017285   \n",
              "2012-01-04  0.006765  0.007114  0.006225  0.001146  0.001593  0.017983   \n",
              "2012-01-05 -0.027102 -0.011587 -0.006225 -0.007473 -0.006388 -0.010951   \n",
              "2012-01-06 -0.008637  0.000896 -0.000833  0.007473  0.012419  0.014903   \n",
              "2012-01-09 -0.001206  0.013345  0.019803  0.006280  0.002528  0.015656   \n",
              "\n",
              "            ABEV3.SA  JBSS3.SA  WEGE3.SA  SUZB3.SA  ITSA4.SA  BBAS3.SA  \n",
              "Date                                                                    \n",
              "2012-01-03 -0.011462  0.029801  0.023306       0.0  0.029193 -0.004539  \n",
              "2012-01-04 -0.023517  0.018820  0.005222       0.0  0.001742 -0.004975  \n",
              "2012-01-05 -0.019997  0.016807  0.006231       0.0 -0.004361 -0.010445  \n",
              "2012-01-06 -0.002528  0.011599 -0.011453       0.0  0.005231 -0.025522  \n",
              "2012-01-09 -0.001949 -0.033504  0.000000       0.0  0.006932  0.008153  "
            ]
          },
          "execution_count": 14,
          "metadata": {},
          "output_type": "execute_result"
        }
      ],
      "source": [
        "Xtrain.head()"
      ]
    },
    {
      "cell_type": "markdown",
      "metadata": {},
      "source": [
        "## Buy & Hold"
      ]
    },
    {
      "cell_type": "code",
      "execution_count": 15,
      "metadata": {},
      "outputs": [
        {
          "data": {
            "text/plain": [
              "(0.014595554557542289, 0.01811346510486711)"
            ]
          },
          "execution_count": 15,
          "metadata": {},
          "output_type": "execute_result"
        }
      ],
      "source": [
        "#std buy-and-hold train and test\n",
        "Ytrain.std(), Ytest.std()"
      ]
    },
    {
      "cell_type": "code",
      "execution_count": 16,
      "metadata": {},
      "outputs": [
        {
          "data": {
            "text/plain": [
              "(0.011830254737761503, 0.018849659662433623)"
            ]
          },
          "execution_count": 16,
          "metadata": {},
          "output_type": "execute_result"
        }
      ],
      "source": [
        "#SR buy-and-hold train and test\n",
        "Ytrain.mean()/Ytrain.std(), Ytest.mean()/Ytest.std()"
      ]
    },
    {
      "cell_type": "code",
      "execution_count": 17,
      "metadata": {},
      "outputs": [
        {
          "data": {
            "text/plain": [
              "(0.25814034703965844, 0.3410912198815786)"
            ]
          },
          "execution_count": 17,
          "metadata": {},
          "output_type": "execute_result"
        }
      ],
      "source": [
        "# Total return buy-and-hold train and test\n",
        "Ytrain.sum(), Ytest.sum()"
      ]
    },
    {
      "cell_type": "markdown",
      "metadata": {},
      "source": [
        "## Linear Regressor"
      ]
    },
    {
      "cell_type": "code",
      "execution_count": 18,
      "metadata": {
        "colab": {
          "base_uri": "https://localhost:8080/"
        },
        "id": "JKV62WkI4hM2",
        "outputId": "6a6bf207-39d4-4568-8c3a-34b1a8a1eed4"
      },
      "outputs": [
        {
          "data": {
            "text/plain": [
              "(0.008609294869767914, 0.0021352073289118145)"
            ]
          },
          "execution_count": 18,
          "metadata": {},
          "output_type": "execute_result"
        }
      ],
      "source": [
        "from sklearn.linear_model import LinearRegression\n",
        "model = LinearRegression()\n",
        "model.fit(Xtrain, Ytrain)\n",
        "model.score(Xtrain, Ytrain), model.score(Xtest, Ytest)"
      ]
    },
    {
      "cell_type": "code",
      "execution_count": 19,
      "metadata": {
        "colab": {
          "base_uri": "https://localhost:8080/"
        },
        "id": "dT724GIU828f",
        "outputId": "9ca29365-38bc-4d95-8715-f311eac43ca0"
      },
      "outputs": [
        {
          "data": {
            "text/plain": [
              "(0.5043478260869565, 0.5095095095095095)"
            ]
          },
          "execution_count": 19,
          "metadata": {},
          "output_type": "execute_result"
        }
      ],
      "source": [
        "# Direction\n",
        "Ptrain = model.predict(Xtrain)\n",
        "Ptest = model.predict(Xtest)\n",
        "np.mean(np.sign(Ptrain) == np.sign(Ytrain)), np.mean(np.sign(Ptest) == np.sign(Ytest))"
      ]
    },
    {
      "cell_type": "code",
      "execution_count": 20,
      "metadata": {
        "colab": {
          "base_uri": "https://localhost:8080/"
        },
        "id": "s_yi4ErBuSyt",
        "outputId": "3b5b5738-fea0-4c44-b621-5f4aa881f9e4"
      },
      "outputs": [
        {
          "data": {
            "text/plain": [
              "({-1.0, 1.0}, {-1.0, 1.0})"
            ]
          },
          "execution_count": 20,
          "metadata": {},
          "output_type": "execute_result"
        }
      ],
      "source": [
        "set(np.sign(Ptrain)), set(np.sign(Ptest))"
      ]
    },
    {
      "cell_type": "code",
      "execution_count": 21,
      "metadata": {
        "id": "jbtqTtPBBmBU"
      },
      "outputs": [],
      "source": [
        "train_idx = df.index <= train.index[-1]\n",
        "test_idx = df.index > train.index[-1]\n",
        "\n",
        "train_idx[0] = False\n",
        "test_idx[-1] = False"
      ]
    },
    {
      "cell_type": "code",
      "execution_count": 22,
      "metadata": {
        "id": "R8O8ATPO9UHn"
      },
      "outputs": [],
      "source": [
        "df_returns['Position'] = 0 # create new column\n",
        "df_returns.loc[train_idx,'Position'] = (Ptrain > 0)\n",
        "df_returns.loc[test_idx,'Position'] = (Ptest > 0)"
      ]
    },
    {
      "cell_type": "code",
      "execution_count": 23,
      "metadata": {
        "id": "QhG-T22SK0R4"
      },
      "outputs": [],
      "source": [
        "df_returns['AlgoReturn'] = df_returns['Position'] * df_returns['BOVA11.SA']"
      ]
    },
    {
      "cell_type": "code",
      "execution_count": 24,
      "metadata": {
        "colab": {
          "base_uri": "https://localhost:8080/"
        },
        "id": "ps6iv9TN0PlS",
        "outputId": "a1a07caf-098a-4d21-825d-e0c805d10a00"
      },
      "outputs": [
        {
          "data": {
            "text/plain": [
              "0.8667140132700144"
            ]
          },
          "execution_count": 24,
          "metadata": {},
          "output_type": "execute_result"
        }
      ],
      "source": [
        "# Total algo log return train\n",
        "df_returns.iloc[1:-Ntest]['AlgoReturn'].sum()"
      ]
    },
    {
      "cell_type": "code",
      "execution_count": 25,
      "metadata": {
        "colab": {
          "base_uri": "https://localhost:8080/"
        },
        "id": "QDgFMKbHK-Dt",
        "outputId": "05201248-ba3e-4365-a90a-8ba326b860a3"
      },
      "outputs": [
        {
          "data": {
            "text/plain": [
              "0.7984340712761924"
            ]
          },
          "execution_count": 25,
          "metadata": {},
          "output_type": "execute_result"
        }
      ],
      "source": [
        "# Total algo log return test\n",
        "df_returns.iloc[-Ntest:-1]['AlgoReturn'].sum()"
      ]
    },
    {
      "cell_type": "code",
      "execution_count": 26,
      "metadata": {},
      "outputs": [
        {
          "data": {
            "text/plain": [
              "(0.01105034903643209, 0.052463665444862397)"
            ]
          },
          "execution_count": 26,
          "metadata": {},
          "output_type": "execute_result"
        }
      ],
      "source": [
        "#std and SR algo train\n",
        "df_returns.iloc[1:-Ntest]['AlgoReturn'].std(), df_returns.iloc[1:-Ntest]['AlgoReturn'].mean()/df_returns.iloc[1:-Ntest]['AlgoReturn'].std()"
      ]
    },
    {
      "cell_type": "code",
      "execution_count": 27,
      "metadata": {},
      "outputs": [
        {
          "data": {
            "text/plain": [
              "(0.012766229284670569, 0.0626052757442228)"
            ]
          },
          "execution_count": 27,
          "metadata": {},
          "output_type": "execute_result"
        }
      ],
      "source": [
        "#std and SR algo test\n",
        "df_returns.iloc[-Ntest:-1]['AlgoReturn'].std(), df_returns.iloc[-Ntest:-1]['AlgoReturn'].mean()/df_returns.iloc[-Ntest:-1]['AlgoReturn'].std()"
      ]
    },
    {
      "cell_type": "code",
      "execution_count": 28,
      "metadata": {},
      "outputs": [
        {
          "data": {
            "text/plain": [
              "(0.00021105490458057274, 0.00032706933688000906)"
            ]
          },
          "execution_count": 28,
          "metadata": {},
          "output_type": "execute_result"
        }
      ],
      "source": [
        "# MSE\n",
        "mean_squared_error(Ytrain, Ptrain), mean_squared_error(Ytest, Ptest)"
      ]
    },
    {
      "cell_type": "code",
      "execution_count": 29,
      "metadata": {},
      "outputs": [
        {
          "data": {
            "text/plain": [
              "(0.014527728817009655, 0.01808505838752004)"
            ]
          },
          "execution_count": 29,
          "metadata": {},
          "output_type": "execute_result"
        }
      ],
      "source": [
        "# RMSE\n",
        "mean_squared_error(Ytrain, Ptrain, squared=False), mean_squared_error(Ytest, Ptest, squared=False)"
      ]
    },
    {
      "cell_type": "code",
      "execution_count": 30,
      "metadata": {},
      "outputs": [
        {
          "data": {
            "text/plain": [
              "(0.010870090219204194, 0.011998578232166369)"
            ]
          },
          "execution_count": 30,
          "metadata": {},
          "output_type": "execute_result"
        }
      ],
      "source": [
        "# MAE\n",
        "mean_absolute_error(Ytrain, Ptrain), mean_absolute_error(Ytest, Ptest) "
      ]
    },
    {
      "cell_type": "code",
      "execution_count": 31,
      "metadata": {},
      "outputs": [
        {
          "data": {
            "text/plain": [
              "(0.008609294869767914, 0.0021352073289118145)"
            ]
          },
          "execution_count": 31,
          "metadata": {},
          "output_type": "execute_result"
        }
      ],
      "source": [
        "# R^2\n",
        "r2_score(Ytrain, Ptrain), r2_score(Ytest, Ptest)"
      ]
    },
    {
      "cell_type": "code",
      "execution_count": 32,
      "metadata": {},
      "outputs": [
        {
          "data": {
            "text/plain": [
              "(107908191034.45757, 22053931044.230965)"
            ]
          },
          "execution_count": 32,
          "metadata": {},
          "output_type": "execute_result"
        }
      ],
      "source": [
        "# MAPE\n",
        "mean_absolute_percentage_error(Ytrain, Ptrain), mean_absolute_percentage_error(Ytest, Ptest)"
      ]
    },
    {
      "cell_type": "code",
      "execution_count": 33,
      "metadata": {},
      "outputs": [
        {
          "data": {
            "text/plain": [
              "1.751265372251096"
            ]
          },
          "execution_count": 33,
          "metadata": {},
          "output_type": "execute_result"
        }
      ],
      "source": [
        "#sMAPE train\n",
        "def smape(Ytrain, Ptrain):\n",
        "    numerator = np.abs(Ytrain - Ptrain)\n",
        "    denominator = (np.abs(Ytrain) + np.abs(Ptrain)) / 2\n",
        "    ratio = numerator / denominator\n",
        "    return ratio.mean()\n",
        "\n",
        "smape(Ytrain, Ptrain)"
      ]
    },
    {
      "cell_type": "code",
      "execution_count": 34,
      "metadata": {},
      "outputs": [
        {
          "data": {
            "text/plain": [
              "1.745454081725385"
            ]
          },
          "execution_count": 34,
          "metadata": {},
          "output_type": "execute_result"
        }
      ],
      "source": [
        "#sMAPE test\n",
        "def smape(Ytest, Ptest):\n",
        "    numerator = np.abs(Ytest - Ptest)\n",
        "    denominator = (np.abs(Ytest) + np.abs(Ptest)) / 2\n",
        "    ratio = numerator / denominator\n",
        "    return ratio.mean()\n",
        "\n",
        "smape(Ytest, Ptest)"
      ]
    },
    {
      "cell_type": "code",
      "execution_count": 35,
      "metadata": {},
      "outputs": [
        {
          "data": {
            "text/plain": [
              "1437"
            ]
          },
          "execution_count": 35,
          "metadata": {},
          "output_type": "execute_result"
        }
      ],
      "source": [
        "#df_returns['Position'].to_csv('LinearRegressorBool.csv', index = True)\n",
        "#df_returns['AlgoReturn'].to_csv('LinearRegressorAlgoReturn.csv', index = True)\n",
        "sum(df_returns['Position'])"
      ]
    },
    {
      "cell_type": "markdown",
      "metadata": {},
      "source": [
        "## Ridge Regressor"
      ]
    },
    {
      "cell_type": "code",
      "execution_count": 36,
      "metadata": {},
      "outputs": [
        {
          "data": {
            "text/plain": [
              "(0.004595796763934623, 0.0005891463957395926)"
            ]
          },
          "execution_count": 36,
          "metadata": {},
          "output_type": "execute_result"
        }
      ],
      "source": [
        "from sklearn.linear_model import Ridge\n",
        "model = Ridge()\n",
        "model.fit(Xtrain, Ytrain)\n",
        "model.score(Xtrain, Ytrain), model.score(Xtest, Ytest)"
      ]
    },
    {
      "cell_type": "code",
      "execution_count": 37,
      "metadata": {},
      "outputs": [
        {
          "data": {
            "text/plain": [
              "(0.4909698996655518, 0.5115115115115115)"
            ]
          },
          "execution_count": 37,
          "metadata": {},
          "output_type": "execute_result"
        }
      ],
      "source": [
        "# Direction\n",
        "Ptrain = model.predict(Xtrain)\n",
        "Ptest = model.predict(Xtest)\n",
        "np.mean(np.sign(Ptrain) == np.sign(Ytrain)), np.mean(np.sign(Ptest) == np.sign(Ytest))"
      ]
    },
    {
      "cell_type": "code",
      "execution_count": 38,
      "metadata": {},
      "outputs": [
        {
          "data": {
            "text/plain": [
              "({-1.0, 1.0}, {-1.0, 1.0})"
            ]
          },
          "execution_count": 38,
          "metadata": {},
          "output_type": "execute_result"
        }
      ],
      "source": [
        "set(np.sign(Ptrain)), set(np.sign(Ptest))"
      ]
    },
    {
      "cell_type": "code",
      "execution_count": 39,
      "metadata": {},
      "outputs": [],
      "source": [
        "train_idx = df.index <= train.index[-1]\n",
        "test_idx = df.index > train.index[-1]\n",
        "\n",
        "train_idx[0] = False\n",
        "test_idx[-1] = False"
      ]
    },
    {
      "cell_type": "code",
      "execution_count": 40,
      "metadata": {},
      "outputs": [],
      "source": [
        "df_returns['Position'] = 0 # create new column\n",
        "df_returns.loc[train_idx,'Position'] = (Ptrain > 0)\n",
        "df_returns.loc[test_idx,'Position'] = (Ptest > 0)"
      ]
    },
    {
      "cell_type": "code",
      "execution_count": 41,
      "metadata": {},
      "outputs": [],
      "source": [
        "df_returns['AlgoReturn'] = df_returns['Position'] * df_returns['BOVA11.SA']"
      ]
    },
    {
      "cell_type": "code",
      "execution_count": 42,
      "metadata": {},
      "outputs": [
        {
          "data": {
            "text/plain": [
              "0.5116214385245821"
            ]
          },
          "execution_count": 42,
          "metadata": {},
          "output_type": "execute_result"
        }
      ],
      "source": [
        "# Total algo log return train\n",
        "df_returns.iloc[1:-Ntest]['AlgoReturn'].sum()"
      ]
    },
    {
      "cell_type": "code",
      "execution_count": 43,
      "metadata": {},
      "outputs": [
        {
          "data": {
            "text/plain": [
              "0.4543203960577595"
            ]
          },
          "execution_count": 43,
          "metadata": {},
          "output_type": "execute_result"
        }
      ],
      "source": [
        "# Total algo log return test\n",
        "df_returns.iloc[-Ntest:-1]['AlgoReturn'].sum()"
      ]
    },
    {
      "cell_type": "code",
      "execution_count": 44,
      "metadata": {},
      "outputs": [
        {
          "data": {
            "text/plain": [
              "(0.011842245420754755, 0.02889837913762327)"
            ]
          },
          "execution_count": 44,
          "metadata": {},
          "output_type": "execute_result"
        }
      ],
      "source": [
        "#std and SR algo train\n",
        "df_returns.iloc[1:-Ntest]['AlgoReturn'].std(), df_returns.iloc[1:-Ntest]['AlgoReturn'].mean()/df_returns.iloc[1:-Ntest]['AlgoReturn'].std()"
      ]
    },
    {
      "cell_type": "code",
      "execution_count": 45,
      "metadata": {},
      "outputs": [
        {
          "data": {
            "text/plain": [
              "(0.01481581531482129, 0.030695251092529838)"
            ]
          },
          "execution_count": 45,
          "metadata": {},
          "output_type": "execute_result"
        }
      ],
      "source": [
        "#std and SR algo test\n",
        "df_returns.iloc[-Ntest:-1]['AlgoReturn'].std(), df_returns.iloc[-Ntest:-1]['AlgoReturn'].mean()/df_returns.iloc[-Ntest:-1]['AlgoReturn'].std()"
      ]
    },
    {
      "cell_type": "code",
      "execution_count": 46,
      "metadata": {},
      "outputs": [
        {
          "data": {
            "text/plain": [
              "(0.00021190932903238327, 0.00032757608802295215)"
            ]
          },
          "execution_count": 46,
          "metadata": {},
          "output_type": "execute_result"
        }
      ],
      "source": [
        "# MSE\n",
        "mean_squared_error(Ytrain, Ptrain), mean_squared_error(Ytest, Ptest)"
      ]
    },
    {
      "cell_type": "code",
      "execution_count": 47,
      "metadata": {},
      "outputs": [
        {
          "data": {
            "text/plain": [
              "(0.014557105791756246, 0.018099063180809997)"
            ]
          },
          "execution_count": 47,
          "metadata": {},
          "output_type": "execute_result"
        }
      ],
      "source": [
        "# RMSE\n",
        "mean_squared_error(Ytrain, Ptrain, squared=False), mean_squared_error(Ytest, Ptest, squared=False)"
      ]
    },
    {
      "cell_type": "code",
      "execution_count": 48,
      "metadata": {},
      "outputs": [
        {
          "data": {
            "text/plain": [
              "(0.010871246454270964, 0.01197241959623269)"
            ]
          },
          "execution_count": 48,
          "metadata": {},
          "output_type": "execute_result"
        }
      ],
      "source": [
        "# MAE\n",
        "mean_absolute_error(Ytrain, Ptrain), mean_absolute_error(Ytest, Ptest) "
      ]
    },
    {
      "cell_type": "code",
      "execution_count": 49,
      "metadata": {},
      "outputs": [
        {
          "data": {
            "text/plain": [
              "(0.004595796763934623, 0.0005891463957395926)"
            ]
          },
          "execution_count": 49,
          "metadata": {},
          "output_type": "execute_result"
        }
      ],
      "source": [
        "# R^2\n",
        "r2_score(Ytrain, Ptrain), r2_score(Ytest, Ptest)"
      ]
    },
    {
      "cell_type": "code",
      "execution_count": 50,
      "metadata": {},
      "outputs": [
        {
          "data": {
            "text/plain": [
              "(47033475492.16297, 6961815357.127645)"
            ]
          },
          "execution_count": 50,
          "metadata": {},
          "output_type": "execute_result"
        }
      ],
      "source": [
        "# MAPE\n",
        "mean_absolute_percentage_error(Ytrain, Ptrain), mean_absolute_percentage_error(Ytest, Ptest)"
      ]
    },
    {
      "cell_type": "code",
      "execution_count": 51,
      "metadata": {},
      "outputs": [
        {
          "data": {
            "text/plain": [
              "1.8590930625977427"
            ]
          },
          "execution_count": 51,
          "metadata": {},
          "output_type": "execute_result"
        }
      ],
      "source": [
        "#sMAPE train\n",
        "def smape(Ytrain, Ptrain):\n",
        "    numerator = np.abs(Ytrain - Ptrain)\n",
        "    denominator = (np.abs(Ytrain) + np.abs(Ptrain)) / 2\n",
        "    ratio = numerator / denominator\n",
        "    return ratio.mean()\n",
        "\n",
        "smape(Ytrain, Ptrain)"
      ]
    },
    {
      "cell_type": "code",
      "execution_count": 52,
      "metadata": {},
      "outputs": [
        {
          "data": {
            "text/plain": [
              "1.8693300117186624"
            ]
          },
          "execution_count": 52,
          "metadata": {},
          "output_type": "execute_result"
        }
      ],
      "source": [
        "#sMAPE test\n",
        "def smape(Ytest, Ptest):\n",
        "    numerator = np.abs(Ytest - Ptest)\n",
        "    denominator = (np.abs(Ytest) + np.abs(Ptest)) / 2\n",
        "    ratio = numerator / denominator\n",
        "    return ratio.mean()\n",
        "\n",
        "smape(Ytest, Ptest)"
      ]
    },
    {
      "cell_type": "code",
      "execution_count": 53,
      "metadata": {},
      "outputs": [
        {
          "data": {
            "text/plain": [
              "1661"
            ]
          },
          "execution_count": 53,
          "metadata": {},
          "output_type": "execute_result"
        }
      ],
      "source": [
        "#df_returns['Position'].to_csv('RidgeRegressorBool.csv', index = True)\n",
        "#df_returns['AlgoReturn'].to_csv('RidgeRegressorAlgoReturn.csv', index = True)\n",
        "sum(df_returns['Position'])"
      ]
    },
    {
      "cell_type": "markdown",
      "metadata": {},
      "source": [
        "## Logistic Regressor"
      ]
    },
    {
      "cell_type": "code",
      "execution_count": 54,
      "metadata": {
        "colab": {
          "base_uri": "https://localhost:8080/"
        },
        "id": "3GFP14U0sFRH",
        "outputId": "312f72f6-3f3c-4088-968b-82d1ec41024f"
      },
      "outputs": [
        {
          "data": {
            "text/plain": [
              "(0.5284280936454849, 0.5315315315315315)"
            ]
          },
          "execution_count": 54,
          "metadata": {},
          "output_type": "execute_result"
        }
      ],
      "source": [
        "from sklearn.linear_model import LogisticRegression\n",
        "model = LogisticRegression(C=10)\n",
        "Ctrain = (Ytrain > 0)\n",
        "Ctest = (Ytest > 0)\n",
        "model.fit(Xtrain, Ctrain)\n",
        "model.score(Xtrain, Ctrain), model.score(Xtest, Ctest)"
      ]
    },
    {
      "cell_type": "code",
      "execution_count": 55,
      "metadata": {
        "colab": {
          "base_uri": "https://localhost:8080/"
        },
        "id": "V30Ml3Sitfce",
        "outputId": "05f2da70-1510-4cc4-ab00-f8df298cfcc3"
      },
      "outputs": [
        {
          "data": {
            "text/plain": [
              "({False, True}, {False, True})"
            ]
          },
          "execution_count": 55,
          "metadata": {},
          "output_type": "execute_result"
        }
      ],
      "source": [
        "Ptrain = model.predict(Xtrain)\n",
        "Ptest = model.predict(Xtest)\n",
        "set(Ptrain), set(Ptest)"
      ]
    },
    {
      "cell_type": "code",
      "execution_count": 56,
      "metadata": {
        "id": "-KIcWA4dsQ-e"
      },
      "outputs": [],
      "source": [
        "df_returns.loc[train_idx,'Position'] = Ptrain\n",
        "df_returns.loc[test_idx,'Position'] = Ptest\n",
        "df_returns['AlgoReturn'] = df_returns['Position'] * df_returns['BOVA11.SA']"
      ]
    },
    {
      "cell_type": "code",
      "execution_count": 57,
      "metadata": {
        "colab": {
          "base_uri": "https://localhost:8080/"
        },
        "id": "Nc0lrxf70bCk",
        "outputId": "97c69d96-69d4-4bfd-802a-f1844812a680"
      },
      "outputs": [
        {
          "data": {
            "text/plain": [
              "0.6766611987393788"
            ]
          },
          "execution_count": 57,
          "metadata": {},
          "output_type": "execute_result"
        }
      ],
      "source": [
        "# Total algo log return train\n",
        "df_returns.iloc[1:-Ntest]['AlgoReturn'].sum()"
      ]
    },
    {
      "cell_type": "code",
      "execution_count": 58,
      "metadata": {
        "colab": {
          "base_uri": "https://localhost:8080/"
        },
        "id": "zC4zaA7MsUmN",
        "outputId": "c92e6316-a122-45ca-da94-098d9c0cdacc"
      },
      "outputs": [
        {
          "data": {
            "text/plain": [
              "0.8020132439431402"
            ]
          },
          "execution_count": 58,
          "metadata": {},
          "output_type": "execute_result"
        }
      ],
      "source": [
        "# Total algo log return test\n",
        "df_returns.iloc[-Ntest:-1]['AlgoReturn'].sum()"
      ]
    },
    {
      "cell_type": "code",
      "execution_count": 59,
      "metadata": {},
      "outputs": [
        {
          "data": {
            "text/plain": [
              "(0.010301207380032255, 0.04393816858061621)"
            ]
          },
          "execution_count": 59,
          "metadata": {},
          "output_type": "execute_result"
        }
      ],
      "source": [
        "#std and SR algo train\n",
        "df_returns.iloc[1:-Ntest]['AlgoReturn'].std(), df_returns.iloc[1:-Ntest]['AlgoReturn'].mean()/df_returns.iloc[1:-Ntest]['AlgoReturn'].std()"
      ]
    },
    {
      "cell_type": "code",
      "execution_count": 60,
      "metadata": {},
      "outputs": [
        {
          "data": {
            "text/plain": [
              "(0.013562405116763963, 0.05919422499854495)"
            ]
          },
          "execution_count": 60,
          "metadata": {},
          "output_type": "execute_result"
        }
      ],
      "source": [
        "#std and SR algo test\n",
        "df_returns.iloc[-Ntest:-1]['AlgoReturn'].std(), df_returns.iloc[-Ntest:-1]['AlgoReturn'].mean()/df_returns.iloc[-Ntest:-1]['AlgoReturn'].std()"
      ]
    },
    {
      "cell_type": "code",
      "execution_count": 61,
      "metadata": {},
      "outputs": [
        {
          "data": {
            "text/plain": [
              "(0.5284280936454849, 0.5315315315315315)"
            ]
          },
          "execution_count": 61,
          "metadata": {},
          "output_type": "execute_result"
        }
      ],
      "source": [
        "accuracy_score(Ctrain,Ptrain), accuracy_score(Ctest,Ptest)"
      ]
    },
    {
      "cell_type": "code",
      "execution_count": 62,
      "metadata": {},
      "outputs": [
        {
          "data": {
            "text/plain": [
              "(0.5286713286713287, 0.5553359683794467)"
            ]
          },
          "execution_count": 62,
          "metadata": {},
          "output_type": "execute_result"
        }
      ],
      "source": [
        "precision_score(Ctrain,Ptrain), precision_score(Ctest,Ptest)"
      ]
    },
    {
      "cell_type": "code",
      "execution_count": 63,
      "metadata": {},
      "outputs": [
        {
          "data": {
            "text/plain": [
              "(0.5174537987679673, 0.5456310679611651)"
            ]
          },
          "execution_count": 63,
          "metadata": {},
          "output_type": "execute_result"
        }
      ],
      "source": [
        "f1_score(Ctrain,Ptrain), f1_score(Ctest,Ptest)"
      ]
    },
    {
      "cell_type": "code",
      "execution_count": 64,
      "metadata": {},
      "outputs": [
        {
          "data": {
            "text/plain": [
              "(0.5283845842714325, 0.5312876657292086)"
            ]
          },
          "execution_count": 64,
          "metadata": {},
          "output_type": "execute_result"
        }
      ],
      "source": [
        "roc_auc_score(Ctrain,Ptrain), roc_auc_score(Ctest,Ptest)"
      ]
    },
    {
      "cell_type": "code",
      "execution_count": 65,
      "metadata": {},
      "outputs": [
        {
          "data": {
            "text/plain": [
              "(0.47756855472466636, 0.5052287601548175)"
            ]
          },
          "execution_count": 65,
          "metadata": {},
          "output_type": "execute_result"
        }
      ],
      "source": [
        "# MSE\n",
        "mean_squared_error(Ytrain, Ptrain), mean_squared_error(Ytest, Ptest)"
      ]
    },
    {
      "cell_type": "code",
      "execution_count": 66,
      "metadata": {},
      "outputs": [
        {
          "data": {
            "text/plain": [
              "(0.6910633507318026, 0.7107944570372068)"
            ]
          },
          "execution_count": 66,
          "metadata": {},
          "output_type": "execute_result"
        }
      ],
      "source": [
        "# RMSE\n",
        "mean_squared_error(Ytrain, Ptrain, squared=False), mean_squared_error(Ytest, Ptest, squared=False)"
      ]
    },
    {
      "cell_type": "code",
      "execution_count": 67,
      "metadata": {},
      "outputs": [
        {
          "data": {
            "text/plain": [
              "(0.483384904229031, 0.5113486173981093)"
            ]
          },
          "execution_count": 67,
          "metadata": {},
          "output_type": "execute_result"
        }
      ],
      "source": [
        "# MAE\n",
        "mean_absolute_error(Ytrain, Ptrain), mean_absolute_error(Ytest, Ptest) "
      ]
    },
    {
      "cell_type": "code",
      "execution_count": 68,
      "metadata": {},
      "outputs": [
        {
          "data": {
            "text/plain": [
              "(-2242.2884332037165, -1540.416253851745)"
            ]
          },
          "execution_count": 68,
          "metadata": {},
          "output_type": "execute_result"
        }
      ],
      "source": [
        "# R^2\n",
        "r2_score(Ytrain, Ptrain), r2_score(Ytest, Ptest)"
      ]
    },
    {
      "cell_type": "code",
      "execution_count": 69,
      "metadata": {},
      "outputs": [
        {
          "data": {
            "text/plain": [
              "(72298589335864.12, 4508107735285.963)"
            ]
          },
          "execution_count": 69,
          "metadata": {},
          "output_type": "execute_result"
        }
      ],
      "source": [
        "# MAPE\n",
        "mean_absolute_percentage_error(Ytrain, Ptrain), mean_absolute_percentage_error(Ytest, Ptest)"
      ]
    },
    {
      "cell_type": "code",
      "execution_count": 70,
      "metadata": {},
      "outputs": [
        {
          "data": {
            "text/plain": [
              "1.988524325929235"
            ]
          },
          "execution_count": 70,
          "metadata": {},
          "output_type": "execute_result"
        }
      ],
      "source": [
        "#sMAPE train\n",
        "def smape(Ytrain, Ptrain):\n",
        "    numerator = np.abs(Ytrain - Ptrain)\n",
        "    denominator = (np.abs(Ytrain) + np.abs(Ptrain)) / 2\n",
        "    ratio = numerator / denominator\n",
        "    return ratio.mean()\n",
        "\n",
        "smape(Ytrain, Ptrain)"
      ]
    },
    {
      "cell_type": "code",
      "execution_count": 71,
      "metadata": {},
      "outputs": [
        {
          "data": {
            "text/plain": [
              "1.986031051548461"
            ]
          },
          "execution_count": 71,
          "metadata": {},
          "output_type": "execute_result"
        }
      ],
      "source": [
        "#sMAPE test\n",
        "def smape(Ytest, Ptest):\n",
        "    numerator = np.abs(Ytest - Ptest)\n",
        "    denominator = (np.abs(Ytest) + np.abs(Ptest)) / 2\n",
        "    ratio = numerator / denominator\n",
        "    return ratio.mean()\n",
        "\n",
        "smape(Ytest, Ptest)"
      ]
    },
    {
      "cell_type": "code",
      "execution_count": 72,
      "metadata": {},
      "outputs": [
        {
          "data": {
            "text/plain": [
              "1221"
            ]
          },
          "execution_count": 72,
          "metadata": {},
          "output_type": "execute_result"
        }
      ],
      "source": [
        "#df_returns['Position'].to_csv('LogisticRegressorBool.csv', index = True)\n",
        "#df_returns['AlgoReturn'].to_csv('LogisticRegressorAlgoReturn.csv', index = True)\n",
        "sum(df_returns['Position'])"
      ]
    },
    {
      "cell_type": "markdown",
      "metadata": {},
      "source": [
        "## Linear Support Vector Machine using SVC"
      ]
    },
    {
      "cell_type": "code",
      "execution_count": 73,
      "metadata": {},
      "outputs": [
        {
          "data": {
            "text/plain": [
              "(0.7397993311036789, 0.5175175175175175)"
            ]
          },
          "execution_count": 73,
          "metadata": {},
          "output_type": "execute_result"
        }
      ],
      "source": [
        "from sklearn.svm import SVC\n",
        "model = SVC(C=10)\n",
        "Ctrain = (Ytrain > 0)\n",
        "Ctest = (Ytest > 0)\n",
        "model.fit(Xtrain, Ctrain)\n",
        "model.score(Xtrain, Ctrain), model.score(Xtest, Ctest)"
      ]
    },
    {
      "cell_type": "code",
      "execution_count": 74,
      "metadata": {},
      "outputs": [
        {
          "data": {
            "text/plain": [
              "({False, True}, {False, True})"
            ]
          },
          "execution_count": 74,
          "metadata": {},
          "output_type": "execute_result"
        }
      ],
      "source": [
        "Ptrain = model.predict(Xtrain)\n",
        "Ptest = model.predict(Xtest)\n",
        "set(Ptrain), set(Ptest)"
      ]
    },
    {
      "cell_type": "code",
      "execution_count": 75,
      "metadata": {},
      "outputs": [],
      "source": [
        "df_returns.loc[train_idx,'Position'] = Ptrain\n",
        "df_returns.loc[test_idx,'Position'] = Ptest\n",
        "df_returns['AlgoReturn'] = df_returns['Position'] * df_returns['BOVA11.SA']"
      ]
    },
    {
      "cell_type": "code",
      "execution_count": 76,
      "metadata": {},
      "outputs": [
        {
          "data": {
            "text/plain": [
              "4.11922453901937"
            ]
          },
          "execution_count": 76,
          "metadata": {},
          "output_type": "execute_result"
        }
      ],
      "source": [
        "# Total algo log return train\n",
        "df_returns.iloc[1:-Ntest]['AlgoReturn'].sum()"
      ]
    },
    {
      "cell_type": "code",
      "execution_count": 77,
      "metadata": {},
      "outputs": [
        {
          "data": {
            "text/plain": [
              "0.5164900034852237"
            ]
          },
          "execution_count": 77,
          "metadata": {},
          "output_type": "execute_result"
        }
      ],
      "source": [
        "# Total algo log return test\n",
        "df_returns.iloc[-Ntest:-1]['AlgoReturn'].sum()"
      ]
    },
    {
      "cell_type": "code",
      "execution_count": 78,
      "metadata": {},
      "outputs": [
        {
          "data": {
            "text/plain": [
              "(0.009819235913299185, 0.2806057583442373)"
            ]
          },
          "execution_count": 78,
          "metadata": {},
          "output_type": "execute_result"
        }
      ],
      "source": [
        "#std and SR algo train\n",
        "df_returns.iloc[1:-Ntest]['AlgoReturn'].std(), df_returns.iloc[1:-Ntest]['AlgoReturn'].mean()/df_returns.iloc[1:-Ntest]['AlgoReturn'].std()"
      ]
    },
    {
      "cell_type": "code",
      "execution_count": 79,
      "metadata": {},
      "outputs": [
        {
          "data": {
            "text/plain": [
              "(0.01445736417642566, 0.035760807031392124)"
            ]
          },
          "execution_count": 79,
          "metadata": {},
          "output_type": "execute_result"
        }
      ],
      "source": [
        "#std and SR algo test\n",
        "df_returns.iloc[-Ntest:-1]['AlgoReturn'].std(), df_returns.iloc[-Ntest:-1]['AlgoReturn'].mean()/df_returns.iloc[-Ntest:-1]['AlgoReturn'].std()"
      ]
    },
    {
      "cell_type": "code",
      "execution_count": 80,
      "metadata": {},
      "outputs": [
        {
          "data": {
            "text/plain": [
              "(0.7397993311036789, 0.5175175175175175)"
            ]
          },
          "execution_count": 80,
          "metadata": {},
          "output_type": "execute_result"
        }
      ],
      "source": [
        "accuracy_score(Ctrain,Ptrain), accuracy_score(Ctest,Ptest)"
      ]
    },
    {
      "cell_type": "code",
      "execution_count": 81,
      "metadata": {},
      "outputs": [
        {
          "data": {
            "text/plain": [
              "(0.7652303120356612, 0.5411764705882353)"
            ]
          },
          "execution_count": 81,
          "metadata": {},
          "output_type": "execute_result"
        }
      ],
      "source": [
        "precision_score(Ctrain,Ptrain), precision_score(Ctest,Ptest)"
      ]
    },
    {
      "cell_type": "code",
      "execution_count": 82,
      "metadata": {},
      "outputs": [
        {
          "data": {
            "text/plain": [
              "(0.7258632840028189, 0.5338491295938104)"
            ]
          },
          "execution_count": 82,
          "metadata": {},
          "output_type": "execute_result"
        }
      ],
      "source": [
        "f1_score(Ctrain,Ptrain), f1_score(Ctest,Ptest)"
      ]
    },
    {
      "cell_type": "code",
      "execution_count": 83,
      "metadata": {},
      "outputs": [
        {
          "data": {
            "text/plain": [
              "(0.7397002974475351, 0.5170429891522699)"
            ]
          },
          "execution_count": 83,
          "metadata": {},
          "output_type": "execute_result"
        }
      ],
      "source": [
        "roc_auc_score(Ctrain,Ptrain), roc_auc_score(Ctest,Ptest)"
      ]
    },
    {
      "cell_type": "code",
      "execution_count": 84,
      "metadata": {},
      "outputs": [
        {
          "data": {
            "text/plain": [
              "(0.44486947333298743, 0.5098043822578364)"
            ]
          },
          "execution_count": 84,
          "metadata": {},
          "output_type": "execute_result"
        }
      ],
      "source": [
        "# MSE\n",
        "mean_squared_error(Ytrain, Ptrain), mean_squared_error(Ytest, Ptest)"
      ]
    },
    {
      "cell_type": "code",
      "execution_count": 85,
      "metadata": {},
      "outputs": [
        {
          "data": {
            "text/plain": [
              "(0.6669853621579618, 0.7140058699043281)"
            ]
          },
          "execution_count": 85,
          "metadata": {},
          "output_type": "execute_result"
        }
      ],
      "source": [
        "# RMSE\n",
        "mean_squared_error(Ytrain, Ptrain, squared=False), mean_squared_error(Ytest, Ptest, squared=False)"
      ]
    },
    {
      "cell_type": "code",
      "execution_count": 86,
      "metadata": {},
      "outputs": [
        {
          "data": {
            "text/plain": [
              "(0.4532257922852184, 0.5151895313054085)"
            ]
          },
          "execution_count": 86,
          "metadata": {},
          "output_type": "execute_result"
        }
      ],
      "source": [
        "# MAE\n",
        "mean_absolute_error(Ytrain, Ptrain), mean_absolute_error(Ytest, Ptest) "
      ]
    },
    {
      "cell_type": "code",
      "execution_count": 87,
      "metadata": {},
      "outputs": [
        {
          "data": {
            "text/plain": [
              "(-2088.690650567816, -1554.3761445731586)"
            ]
          },
          "execution_count": 87,
          "metadata": {},
          "output_type": "execute_result"
        }
      ],
      "source": [
        "# R^2\n",
        "r2_score(Ytrain, Ptrain), r2_score(Ytest, Ptest)"
      ]
    },
    {
      "cell_type": "code",
      "execution_count": 88,
      "metadata": {},
      "outputs": [
        {
          "data": {
            "text/plain": [
              "(18074647334061.934, 4508107735283.531)"
            ]
          },
          "execution_count": 88,
          "metadata": {},
          "output_type": "execute_result"
        }
      ],
      "source": [
        "# MAPE\n",
        "mean_absolute_percentage_error(Ytrain, Ptrain), mean_absolute_percentage_error(Ytest, Ptest)"
      ]
    },
    {
      "cell_type": "code",
      "execution_count": 89,
      "metadata": {},
      "outputs": [
        {
          "data": {
            "text/plain": [
              "1.9842201596028837"
            ]
          },
          "execution_count": 89,
          "metadata": {},
          "output_type": "execute_result"
        }
      ],
      "source": [
        "#sMAPE train\n",
        "def smape(Ytrain, Ptrain):\n",
        "    numerator = np.abs(Ytrain - Ptrain)\n",
        "    denominator = (np.abs(Ytrain) + np.abs(Ptrain)) / 2\n",
        "    ratio = numerator / denominator\n",
        "    return ratio.mean()\n",
        "\n",
        "smape(Ytrain, Ptrain)"
      ]
    },
    {
      "cell_type": "code",
      "execution_count": 90,
      "metadata": {},
      "outputs": [
        {
          "data": {
            "text/plain": [
              "1.985728792040286"
            ]
          },
          "execution_count": 90,
          "metadata": {},
          "output_type": "execute_result"
        }
      ],
      "source": [
        "#sMAPE test\n",
        "def smape(Ytest, Ptest):\n",
        "    numerator = np.abs(Ytest - Ptest)\n",
        "    denominator = (np.abs(Ytest) + np.abs(Ptest)) / 2\n",
        "    ratio = numerator / denominator\n",
        "    return ratio.mean()\n",
        "\n",
        "smape(Ytest, Ptest)"
      ]
    },
    {
      "cell_type": "code",
      "execution_count": 91,
      "metadata": {},
      "outputs": [
        {
          "data": {
            "text/plain": [
              "1183"
            ]
          },
          "execution_count": 91,
          "metadata": {},
          "output_type": "execute_result"
        }
      ],
      "source": [
        "#df_returns['Position'].to_csv('SVCBool.csv', index = True)\n",
        "#df_returns['AlgoReturn'].to_csv('SVCAlgoReturn.csv', index = True)\n",
        "sum(df_returns['Position'])"
      ]
    },
    {
      "cell_type": "markdown",
      "metadata": {},
      "source": [
        "## Linear Support Vector Machine using LinearSVC"
      ]
    },
    {
      "cell_type": "code",
      "execution_count": 92,
      "metadata": {},
      "outputs": [
        {
          "data": {
            "text/plain": [
              "(0.5377926421404682, 0.5335335335335335)"
            ]
          },
          "execution_count": 92,
          "metadata": {},
          "output_type": "execute_result"
        }
      ],
      "source": [
        "from sklearn.svm import LinearSVC\n",
        "model = LinearSVC(C=10)\n",
        "Ctrain = (Ytrain > 0)\n",
        "Ctest = (Ytest > 0)\n",
        "model.fit(Xtrain, Ctrain)\n",
        "model.score(Xtrain, Ctrain), model.score(Xtest, Ctest)"
      ]
    },
    {
      "cell_type": "code",
      "execution_count": 93,
      "metadata": {},
      "outputs": [
        {
          "data": {
            "text/plain": [
              "({False, True}, {False, True})"
            ]
          },
          "execution_count": 93,
          "metadata": {},
          "output_type": "execute_result"
        }
      ],
      "source": [
        "Ptrain = model.predict(Xtrain)\n",
        "Ptest = model.predict(Xtest)\n",
        "set(Ptrain), set(Ptest)"
      ]
    },
    {
      "cell_type": "code",
      "execution_count": 94,
      "metadata": {},
      "outputs": [],
      "source": [
        "df_returns.loc[train_idx,'Position'] = Ptrain\n",
        "df_returns.loc[test_idx,'Position'] = Ptest\n",
        "df_returns['AlgoReturn'] = df_returns['Position'] * df_returns['BOVA11.SA']"
      ]
    },
    {
      "cell_type": "code",
      "execution_count": 95,
      "metadata": {},
      "outputs": [
        {
          "data": {
            "text/plain": [
              "0.7744640444090257"
            ]
          },
          "execution_count": 95,
          "metadata": {},
          "output_type": "execute_result"
        }
      ],
      "source": [
        "# Total algo log return train\n",
        "df_returns.iloc[1:-Ntest]['AlgoReturn'].sum()"
      ]
    },
    {
      "cell_type": "code",
      "execution_count": 96,
      "metadata": {},
      "outputs": [
        {
          "data": {
            "text/plain": [
              "0.8261567176042311"
            ]
          },
          "execution_count": 96,
          "metadata": {},
          "output_type": "execute_result"
        }
      ],
      "source": [
        "# Total algo log return test\n",
        "df_returns.iloc[-Ntest:-1]['AlgoReturn'].sum()"
      ]
    },
    {
      "cell_type": "code",
      "execution_count": 97,
      "metadata": {},
      "outputs": [
        {
          "data": {
            "text/plain": [
              "(0.010270704560747652, 0.05043822914410279)"
            ]
          },
          "execution_count": 97,
          "metadata": {},
          "output_type": "execute_result"
        }
      ],
      "source": [
        "#std and SR algo train\n",
        "df_returns.iloc[1:-Ntest]['AlgoReturn'].std(), df_returns.iloc[1:-Ntest]['AlgoReturn'].mean()/df_returns.iloc[1:-Ntest]['AlgoReturn'].std()"
      ]
    },
    {
      "cell_type": "code",
      "execution_count": 98,
      "metadata": {},
      "outputs": [
        {
          "data": {
            "text/plain": [
              "(0.013878234903130428, 0.0595885360838646)"
            ]
          },
          "execution_count": 98,
          "metadata": {},
          "output_type": "execute_result"
        }
      ],
      "source": [
        "#std and SR algo test\n",
        "df_returns.iloc[-Ntest:-1]['AlgoReturn'].std(), df_returns.iloc[-Ntest:-1]['AlgoReturn'].mean()/df_returns.iloc[-Ntest:-1]['AlgoReturn'].std()"
      ]
    },
    {
      "cell_type": "code",
      "execution_count": 99,
      "metadata": {},
      "outputs": [
        {
          "data": {
            "text/plain": [
              "(0.5377926421404682, 0.5335335335335335)"
            ]
          },
          "execution_count": 99,
          "metadata": {},
          "output_type": "execute_result"
        }
      ],
      "source": [
        "accuracy_score(Ctrain,Ptrain), accuracy_score(Ctest,Ptest)"
      ]
    },
    {
      "cell_type": "code",
      "execution_count": 100,
      "metadata": {},
      "outputs": [
        {
          "data": {
            "text/plain": [
              "(0.5378266850068776, 0.5562015503875969)"
            ]
          },
          "execution_count": 100,
          "metadata": {},
          "output_type": "execute_result"
        }
      ],
      "source": [
        "precision_score(Ctrain,Ptrain), precision_score(Ctest,Ptest)"
      ]
    },
    {
      "cell_type": "code",
      "execution_count": 101,
      "metadata": {},
      "outputs": [
        {
          "data": {
            "text/plain": [
              "(0.5308893414799729, 0.551923076923077)"
            ]
          },
          "execution_count": 101,
          "metadata": {},
          "output_type": "execute_result"
        }
      ],
      "source": [
        "f1_score(Ctrain,Ptrain), f1_score(Ctest,Ptest)"
      ]
    },
    {
      "cell_type": "code",
      "execution_count": 102,
      "metadata": {},
      "outputs": [
        {
          "data": {
            "text/plain": [
              "(0.5377652777429781, 0.5328023302531137)"
            ]
          },
          "execution_count": 102,
          "metadata": {},
          "output_type": "execute_result"
        }
      ],
      "source": [
        "roc_auc_score(Ctrain,Ptrain), roc_auc_score(Ctest,Ptest)"
      ]
    },
    {
      "cell_type": "code",
      "execution_count": 103,
      "metadata": {},
      "outputs": [
        {
          "data": {
            "text/plain": [
              "(0.485464470650192, 0.5151904348822228)"
            ]
          },
          "execution_count": 103,
          "metadata": {},
          "output_type": "execute_result"
        }
      ],
      "source": [
        "# MSE\n",
        "mean_squared_error(Ytrain, Ptrain), mean_squared_error(Ytest, Ptest)"
      ]
    },
    {
      "cell_type": "code",
      "execution_count": 104,
      "metadata": {},
      "outputs": [
        {
          "data": {
            "text/plain": [
              "(0.6967528045513646, 0.7177676747264555)"
            ]
          },
          "execution_count": 104,
          "metadata": {},
          "output_type": "execute_result"
        }
      ],
      "source": [
        "# RMSE\n",
        "mean_squared_error(Ytrain, Ptrain, squared=False), mean_squared_error(Ytest, Ptest, squared=False)"
      ]
    },
    {
      "cell_type": "code",
      "execution_count": 105,
      "metadata": {},
      "outputs": [
        {
          "data": {
            "text/plain": [
              "(0.4913575946706874, 0.5211235516404701)"
            ]
          },
          "execution_count": 105,
          "metadata": {},
          "output_type": "execute_result"
        }
      ],
      "source": [
        "# MAE\n",
        "mean_absolute_error(Ytrain, Ptrain), mean_absolute_error(Ytest, Ptest) "
      ]
    },
    {
      "cell_type": "code",
      "execution_count": 106,
      "metadata": {},
      "outputs": [
        {
          "data": {
            "text/plain": [
              "(-2279.37801267884, -1570.8085999559162)"
            ]
          },
          "execution_count": 106,
          "metadata": {},
          "output_type": "execute_result"
        }
      ],
      "source": [
        "# R^2\n",
        "r2_score(Ytrain, Ptrain), r2_score(Ytest, Ptest)"
      ]
    },
    {
      "cell_type": "code",
      "execution_count": 107,
      "metadata": {},
      "outputs": [
        {
          "data": {
            "text/plain": [
              "(78323471780509.08, 4508107735305.562)"
            ]
          },
          "execution_count": 107,
          "metadata": {},
          "output_type": "execute_result"
        }
      ],
      "source": [
        "# MAPE\n",
        "mean_absolute_percentage_error(Ytrain, Ptrain), mean_absolute_percentage_error(Ytest, Ptest)"
      ]
    },
    {
      "cell_type": "code",
      "execution_count": 108,
      "metadata": {},
      "outputs": [
        {
          "data": {
            "text/plain": [
              "1.9884311119754556"
            ]
          },
          "execution_count": 108,
          "metadata": {},
          "output_type": "execute_result"
        }
      ],
      "source": [
        "#sMAPE train\n",
        "def smape(Ytrain, Ptrain):\n",
        "    numerator = np.abs(Ytrain - Ptrain)\n",
        "    denominator = (np.abs(Ytrain) + np.abs(Ptrain)) / 2\n",
        "    ratio = numerator / denominator\n",
        "    return ratio.mean()\n",
        "\n",
        "smape(Ytrain, Ptrain)"
      ]
    },
    {
      "cell_type": "code",
      "execution_count": 109,
      "metadata": {},
      "outputs": [
        {
          "data": {
            "text/plain": [
              "1.9855715104200533"
            ]
          },
          "execution_count": 109,
          "metadata": {},
          "output_type": "execute_result"
        }
      ],
      "source": [
        "#sMAPE test\n",
        "def smape(Ytest, Ptest):\n",
        "    numerator = np.abs(Ytest - Ptest)\n",
        "    denominator = (np.abs(Ytest) + np.abs(Ptest)) / 2\n",
        "    ratio = numerator / denominator\n",
        "    return ratio.mean()\n",
        "\n",
        "smape(Ytest, Ptest)"
      ]
    },
    {
      "cell_type": "code",
      "execution_count": 110,
      "metadata": {},
      "outputs": [
        {
          "data": {
            "text/plain": [
              "1243"
            ]
          },
          "execution_count": 110,
          "metadata": {},
          "output_type": "execute_result"
        }
      ],
      "source": [
        "#df_returns['Position'].to_csv('LinearSVCBool.csv', index = True)\n",
        "#df_returns['AlgoReturn'].to_csv('LinearSVCAlgoReturn.csv', index = True)\n",
        "sum(df_returns['Position'])"
      ]
    },
    {
      "cell_type": "markdown",
      "metadata": {},
      "source": [
        "## Random Forest Classifier"
      ]
    },
    {
      "cell_type": "code",
      "execution_count": 111,
      "metadata": {
        "colab": {
          "base_uri": "https://localhost:8080/"
        },
        "id": "i_XD8BdQNCrN",
        "outputId": "2d3444b3-536b-40fa-9871-9263c73e2f78"
      },
      "outputs": [
        {
          "data": {
            "text/plain": [
              "(0.9979933110367893, 0.5265265265265265)"
            ]
          },
          "execution_count": 111,
          "metadata": {},
          "output_type": "execute_result"
        }
      ],
      "source": [
        "from sklearn.ensemble import RandomForestClassifier\n",
        "model = RandomForestClassifier(random_state=4)\n",
        "model.fit(Xtrain, Ctrain)\n",
        "model.score(Xtrain, Ctrain), model.score(Xtest, Ctest)"
      ]
    },
    {
      "cell_type": "code",
      "execution_count": 112,
      "metadata": {
        "id": "0WwsmcBUPSPn"
      },
      "outputs": [],
      "source": [
        "Ptrain = model.predict(Xtrain)\n",
        "Ptest = model.predict(Xtest)"
      ]
    },
    {
      "cell_type": "code",
      "execution_count": 113,
      "metadata": {
        "id": "UJheBsskP1MI"
      },
      "outputs": [],
      "source": [
        "df_returns.loc[train_idx,'Position'] = Ptrain\n",
        "df_returns.loc[test_idx,'Position'] = Ptest"
      ]
    },
    {
      "cell_type": "code",
      "execution_count": 114,
      "metadata": {
        "id": "_dJN9b88P4pp"
      },
      "outputs": [],
      "source": [
        "df_returns['AlgoReturn'] = df_returns['Position'] * df_returns['BOVA11.SA']"
      ]
    },
    {
      "cell_type": "code",
      "execution_count": 115,
      "metadata": {
        "colab": {
          "base_uri": "https://localhost:8080/"
        },
        "id": "zcizGyM90l81",
        "outputId": "b54b66d6-aae1-4d7c-ce57-e4a99aafd55a"
      },
      "outputs": [
        {
          "data": {
            "text/plain": [
              "8.249759159316733"
            ]
          },
          "execution_count": 115,
          "metadata": {},
          "output_type": "execute_result"
        }
      ],
      "source": [
        "# Total algo log return train\n",
        "df_returns.iloc[1:-Ntest]['AlgoReturn'].sum()"
      ]
    },
    {
      "cell_type": "code",
      "execution_count": 116,
      "metadata": {
        "colab": {
          "base_uri": "https://localhost:8080/"
        },
        "id": "VL0fqq4zP5_C",
        "outputId": "c9418bd5-0581-4403-d62d-92407cf24e43"
      },
      "outputs": [
        {
          "data": {
            "text/plain": [
              "0.5036702110337119"
            ]
          },
          "execution_count": 116,
          "metadata": {},
          "output_type": "execute_result"
        }
      ],
      "source": [
        "# Total algo log return test\n",
        "df_returns.iloc[-Ntest:-1]['AlgoReturn'].sum()"
      ]
    },
    {
      "cell_type": "code",
      "execution_count": 117,
      "metadata": {},
      "outputs": [
        {
          "data": {
            "text/plain": [
              "(0.008852812348104547, 0.6233311330228213)"
            ]
          },
          "execution_count": 117,
          "metadata": {},
          "output_type": "execute_result"
        }
      ],
      "source": [
        "#std and SR algo train\n",
        "df_returns.iloc[1:-Ntest]['AlgoReturn'].std(), df_returns.iloc[1:-Ntest]['AlgoReturn'].mean()/df_returns.iloc[1:-Ntest]['AlgoReturn'].std()"
      ]
    },
    {
      "cell_type": "code",
      "execution_count": 118,
      "metadata": {},
      "outputs": [
        {
          "data": {
            "text/plain": [
              "(0.013235478671188053, 0.03809264462166028)"
            ]
          },
          "execution_count": 118,
          "metadata": {},
          "output_type": "execute_result"
        }
      ],
      "source": [
        "#std and SR algo test\n",
        "df_returns.iloc[-Ntest:-1]['AlgoReturn'].std(), df_returns.iloc[-Ntest:-1]['AlgoReturn'].mean()/df_returns.iloc[-Ntest:-1]['AlgoReturn'].std()"
      ]
    },
    {
      "cell_type": "code",
      "execution_count": 119,
      "metadata": {},
      "outputs": [
        {
          "data": {
            "text/plain": [
              "(0.9979933110367893, 0.5265265265265265)"
            ]
          },
          "execution_count": 119,
          "metadata": {},
          "output_type": "execute_result"
        }
      ],
      "source": [
        "accuracy_score(Ctrain,Ptrain), accuracy_score(Ctest,Ptest)"
      ]
    },
    {
      "cell_type": "code",
      "execution_count": 120,
      "metadata": {},
      "outputs": [
        {
          "data": {
            "text/plain": [
              "(0.9959946595460614, 0.5532359081419624)"
            ]
          },
          "execution_count": 120,
          "metadata": {},
          "output_type": "execute_result"
        }
      ],
      "source": [
        "precision_score(Ctrain,Ptrain), precision_score(Ctest,Ptest)"
      ]
    },
    {
      "cell_type": "code",
      "execution_count": 121,
      "metadata": {},
      "outputs": [
        {
          "data": {
            "text/plain": [
              "(0.9979933110367892, 0.5284147557328016)"
            ]
          },
          "execution_count": 121,
          "metadata": {},
          "output_type": "execute_result"
        }
      ],
      "source": [
        "f1_score(Ctrain,Ptrain), f1_score(Ctest,Ptest)"
      ]
    },
    {
      "cell_type": "code",
      "execution_count": 122,
      "metadata": {},
      "outputs": [
        {
          "data": {
            "text/plain": [
              "(0.9979973297730307, 0.5275994375251105)"
            ]
          },
          "execution_count": 122,
          "metadata": {},
          "output_type": "execute_result"
        }
      ],
      "source": [
        "roc_auc_score(Ctrain,Ptrain), roc_auc_score(Ctest,Ptest)"
      ]
    },
    {
      "cell_type": "code",
      "execution_count": 123,
      "metadata": {},
      "outputs": [
        {
          "data": {
            "text/plain": [
              "(0.4901797949111849, 0.4787990164769585)"
            ]
          },
          "execution_count": 123,
          "metadata": {},
          "output_type": "execute_result"
        }
      ],
      "source": [
        "# MSE\n",
        "mean_squared_error(Ytrain, Ptrain), mean_squared_error(Ytest, Ptest)"
      ]
    },
    {
      "cell_type": "code",
      "execution_count": 124,
      "metadata": {},
      "outputs": [
        {
          "data": {
            "text/plain": [
              "(0.7001284131580326, 0.691953044994354)"
            ]
          },
          "execution_count": 124,
          "metadata": {},
          "output_type": "execute_result"
        }
      ],
      "source": [
        "# RMSE\n",
        "mean_squared_error(Ytrain, Ptrain, squared=False), mean_squared_error(Ytest, Ptest, squared=False)"
      ]
    },
    {
      "cell_type": "code",
      "execution_count": 125,
      "metadata": {},
      "outputs": [
        {
          "data": {
            "text/plain": [
              "(0.5008306753531507, 0.48493352200650297)"
            ]
          },
          "execution_count": 125,
          "metadata": {},
          "output_type": "execute_result"
        }
      ],
      "source": [
        "# MAE\n",
        "mean_absolute_error(Ytrain, Ptrain), mean_absolute_error(Ytest, Ptest) "
      ]
    },
    {
      "cell_type": "code",
      "execution_count": 126,
      "metadata": {},
      "outputs": [
        {
          "data": {
            "text/plain": [
              "(-2301.5273612254355, -1459.781025410467)"
            ]
          },
          "execution_count": 126,
          "metadata": {},
          "output_type": "execute_result"
        }
      ],
      "source": [
        "# R^2\n",
        "r2_score(Ytrain, Ptrain), r2_score(Ytest, Ptest)"
      ]
    },
    {
      "cell_type": "code",
      "execution_count": 127,
      "metadata": {},
      "outputs": [
        {
          "data": {
            "text/plain": [
              "(162.73019702214418, 9016215470386.598)"
            ]
          },
          "execution_count": 127,
          "metadata": {},
          "output_type": "execute_result"
        }
      ],
      "source": [
        "# MAPE\n",
        "mean_absolute_percentage_error(Ytrain, Ptrain), mean_absolute_percentage_error(Ytest, Ptest)"
      ]
    },
    {
      "cell_type": "code",
      "execution_count": 128,
      "metadata": {},
      "outputs": [
        {
          "data": {
            "text/plain": [
              "1.9775968078995882"
            ]
          },
          "execution_count": 128,
          "metadata": {},
          "output_type": "execute_result"
        }
      ],
      "source": [
        "#sMAPE train\n",
        "def smape(Ytrain, Ptrain):\n",
        "    numerator = np.abs(Ytrain - Ptrain)\n",
        "    denominator = (np.abs(Ytrain) + np.abs(Ptrain)) / 2\n",
        "    ratio = numerator / denominator\n",
        "    return ratio.mean()\n",
        "\n",
        "smape(Ytrain, Ptrain)"
      ]
    },
    {
      "cell_type": "code",
      "execution_count": 129,
      "metadata": {},
      "outputs": [
        {
          "data": {
            "text/plain": [
              "1.987223737136228"
            ]
          },
          "execution_count": 129,
          "metadata": {},
          "output_type": "execute_result"
        }
      ],
      "source": [
        "#sMAPE test\n",
        "def smape(Ytest, Ptest):\n",
        "    numerator = np.abs(Ytest - Ptest)\n",
        "    denominator = (np.abs(Ytest) + np.abs(Ptest)) / 2\n",
        "    ratio = numerator / denominator\n",
        "    return ratio.mean()\n",
        "\n",
        "smape(Ytest, Ptest)"
      ]
    },
    {
      "cell_type": "code",
      "execution_count": 130,
      "metadata": {},
      "outputs": [
        {
          "data": {
            "text/plain": [
              "1228"
            ]
          },
          "execution_count": 130,
          "metadata": {},
          "output_type": "execute_result"
        }
      ],
      "source": [
        "#df_returns['Position'].to_csv('RandomForestBool.csv', index = True)\n",
        "#df_returns['AlgoReturn'].to_csv('RandomForestAlgoReturn.csv', index = True)\n",
        "sum(df_returns['Position'])"
      ]
    },
    {
      "cell_type": "markdown",
      "metadata": {},
      "source": [
        "## KNN"
      ]
    },
    {
      "cell_type": "code",
      "execution_count": 131,
      "metadata": {},
      "outputs": [
        {
          "data": {
            "text/plain": [
              "(0.6976588628762542, 0.5475475475475475)"
            ]
          },
          "execution_count": 131,
          "metadata": {},
          "output_type": "execute_result"
        }
      ],
      "source": [
        "from sklearn.neighbors import KNeighborsClassifier\n",
        "model = KNeighborsClassifier()\n",
        "Ctrain = (Ytrain > 0)\n",
        "Ctest = (Ytest > 0)\n",
        "model.fit(Xtrain, Ctrain)\n",
        "model.score(Xtrain, Ctrain), model.score(Xtest, Ctest)"
      ]
    },
    {
      "cell_type": "code",
      "execution_count": 132,
      "metadata": {},
      "outputs": [
        {
          "data": {
            "text/plain": [
              "({False, True}, {False, True})"
            ]
          },
          "execution_count": 132,
          "metadata": {},
          "output_type": "execute_result"
        }
      ],
      "source": [
        "Ptrain = model.predict(Xtrain)\n",
        "Ptest = model.predict(Xtest)\n",
        "df_returns.loc[train_idx,'Position'] = Ptrain\n",
        "df_returns.loc[test_idx,'Position'] = Ptest\n",
        "df_returns['AlgoReturn'] = df_returns['Position'] * df_returns['BOVA11.SA']\n",
        "set(Ptrain), set(Ptest)"
      ]
    },
    {
      "cell_type": "code",
      "execution_count": 133,
      "metadata": {},
      "outputs": [
        {
          "data": {
            "text/plain": [
              "3.4136543983642413"
            ]
          },
          "execution_count": 133,
          "metadata": {},
          "output_type": "execute_result"
        }
      ],
      "source": [
        "# Total algo log return train\n",
        "df_returns.iloc[1:-Ntest]['AlgoReturn'].sum()"
      ]
    },
    {
      "cell_type": "code",
      "execution_count": 134,
      "metadata": {},
      "outputs": [
        {
          "data": {
            "text/plain": [
              "0.9029991742590321"
            ]
          },
          "execution_count": 134,
          "metadata": {},
          "output_type": "execute_result"
        }
      ],
      "source": [
        "# Total algo log return test\n",
        "df_returns.iloc[-Ntest:-1]['AlgoReturn'].sum()"
      ]
    },
    {
      "cell_type": "code",
      "execution_count": 135,
      "metadata": {},
      "outputs": [
        {
          "data": {
            "text/plain": [
              "(0.009930893139827417, 0.22992704043039838)"
            ]
          },
          "execution_count": 135,
          "metadata": {},
          "output_type": "execute_result"
        }
      ],
      "source": [
        "#std and SR algo train\n",
        "df_returns.iloc[1:-Ntest]['AlgoReturn'].std(), df_returns.iloc[1:-Ntest]['AlgoReturn'].mean()/df_returns.iloc[1:-Ntest]['AlgoReturn'].std()"
      ]
    },
    {
      "cell_type": "code",
      "execution_count": 136,
      "metadata": {},
      "outputs": [
        {
          "data": {
            "text/plain": [
              "(0.011689097171794999, 0.07732873326756368)"
            ]
          },
          "execution_count": 136,
          "metadata": {},
          "output_type": "execute_result"
        }
      ],
      "source": [
        "#std and SR algo test\n",
        "df_returns.iloc[-Ntest:-1]['AlgoReturn'].std(), df_returns.iloc[-Ntest:-1]['AlgoReturn'].mean()/df_returns.iloc[-Ntest:-1]['AlgoReturn'].std()"
      ]
    },
    {
      "cell_type": "code",
      "execution_count": 137,
      "metadata": {},
      "outputs": [
        {
          "data": {
            "text/plain": [
              "(0.6976588628762542, 0.5475475475475475)"
            ]
          },
          "execution_count": 137,
          "metadata": {},
          "output_type": "execute_result"
        }
      ],
      "source": [
        "accuracy_score(Ctrain,Ptrain), accuracy_score(Ctest,Ptest)"
      ]
    },
    {
      "cell_type": "code",
      "execution_count": 138,
      "metadata": {},
      "outputs": [
        {
          "data": {
            "text/plain": [
              "(0.7058823529411765, 0.5756302521008403)"
            ]
          },
          "execution_count": 138,
          "metadata": {},
          "output_type": "execute_result"
        }
      ],
      "source": [
        "precision_score(Ctrain,Ptrain), precision_score(Ctest,Ptest)"
      ]
    },
    {
      "cell_type": "code",
      "execution_count": 139,
      "metadata": {},
      "outputs": [
        {
          "data": {
            "text/plain": [
              "(0.6904109589041095, 0.548)"
            ]
          },
          "execution_count": 139,
          "metadata": {},
          "output_type": "execute_result"
        }
      ],
      "source": [
        "f1_score(Ctrain,Ptrain), f1_score(Ctest,Ptest)"
      ]
    },
    {
      "cell_type": "code",
      "execution_count": 140,
      "metadata": {},
      "outputs": [
        {
          "data": {
            "text/plain": [
              "(0.697614692691238, 0.548818802732021)"
            ]
          },
          "execution_count": 140,
          "metadata": {},
          "output_type": "execute_result"
        }
      ],
      "source": [
        "roc_auc_score(Ctrain,Ptrain), roc_auc_score(Ctest,Ptest)"
      ]
    },
    {
      "cell_type": "code",
      "execution_count": 141,
      "metadata": {},
      "outputs": [
        {
          "data": {
            "text/plain": [
              "(0.4732381290395495, 0.47499655609012104)"
            ]
          },
          "execution_count": 141,
          "metadata": {},
          "output_type": "execute_result"
        }
      ],
      "source": [
        "# MSE\n",
        "mean_squared_error(Ytrain, Ptrain), mean_squared_error(Ytest, Ptest)"
      ]
    },
    {
      "cell_type": "code",
      "execution_count": 142,
      "metadata": {},
      "outputs": [
        {
          "data": {
            "text/plain": [
              "(0.6879230545922629, 0.6891999391251576)"
            ]
          },
          "execution_count": 142,
          "metadata": {},
          "output_type": "execute_result"
        }
      ],
      "source": [
        "# RMSE\n",
        "mean_squared_error(Ytrain, Ptrain, squared=False), mean_squared_error(Ytest, Ptest, squared=False)"
      ]
    },
    {
      "cell_type": "code",
      "execution_count": 143,
      "metadata": {},
      "outputs": [
        {
          "data": {
            "text/plain": [
              "(0.48099111945408296, 0.48205688062052665)"
            ]
          },
          "execution_count": 143,
          "metadata": {},
          "output_type": "execute_result"
        }
      ],
      "source": [
        "# MAE\n",
        "mean_absolute_error(Ytrain, Ptrain), mean_absolute_error(Ytest, Ptest) "
      ]
    },
    {
      "cell_type": "code",
      "execution_count": 144,
      "metadata": {},
      "outputs": [
        {
          "data": {
            "text/plain": [
              "(-2221.94707330017, -1448.1799949325057)"
            ]
          },
          "execution_count": 144,
          "metadata": {},
          "output_type": "execute_result"
        }
      ],
      "source": [
        "# R^2\n",
        "r2_score(Ytrain, Ptrain), r2_score(Ytest, Ptest)"
      ]
    },
    {
      "cell_type": "code",
      "execution_count": 145,
      "metadata": {},
      "outputs": [
        {
          "data": {
            "text/plain": [
              "(33136853445678.31, 4508107735273.969)"
            ]
          },
          "execution_count": 145,
          "metadata": {},
          "output_type": "execute_result"
        }
      ],
      "source": [
        "# MAPE\n",
        "mean_absolute_percentage_error(Ytrain, Ptrain), mean_absolute_percentage_error(Ytest, Ptest)"
      ]
    },
    {
      "cell_type": "code",
      "execution_count": 146,
      "metadata": {},
      "outputs": [
        {
          "data": {
            "text/plain": [
              "1.9849482573943817"
            ]
          },
          "execution_count": 146,
          "metadata": {},
          "output_type": "execute_result"
        }
      ],
      "source": [
        "#sMAPE train\n",
        "def smape(Ytrain, Ptrain):\n",
        "    numerator = np.abs(Ytrain - Ptrain)\n",
        "    denominator = (np.abs(Ytrain) + np.abs(Ptrain)) / 2\n",
        "    ratio = numerator / denominator\n",
        "    return ratio.mean()\n",
        "\n",
        "smape(Ytrain, Ptrain)"
      ]
    },
    {
      "cell_type": "code",
      "execution_count": 147,
      "metadata": {},
      "outputs": [
        {
          "data": {
            "text/plain": [
              "1.98744081226015"
            ]
          },
          "execution_count": 147,
          "metadata": {},
          "output_type": "execute_result"
        }
      ],
      "source": [
        "#sMAPE test\n",
        "def smape(Ytest, Ptest):\n",
        "    numerator = np.abs(Ytest - Ptest)\n",
        "    denominator = (np.abs(Ytest) + np.abs(Ptest)) / 2\n",
        "    ratio = numerator / denominator\n",
        "    return ratio.mean()\n",
        "\n",
        "smape(Ytest, Ptest)"
      ]
    },
    {
      "cell_type": "code",
      "execution_count": 148,
      "metadata": {},
      "outputs": [
        {
          "data": {
            "text/plain": [
              "1190"
            ]
          },
          "execution_count": 148,
          "metadata": {},
          "output_type": "execute_result"
        }
      ],
      "source": [
        "#df_returns['Position'].to_csv('KNNBool.csv', index = True)\n",
        "sum(df_returns['Position'])"
      ]
    },
    {
      "cell_type": "markdown",
      "metadata": {},
      "source": [
        "## Naive Bayes Gaussian Classifier"
      ]
    },
    {
      "cell_type": "code",
      "execution_count": 149,
      "metadata": {},
      "outputs": [
        {
          "data": {
            "text/plain": [
              "(0.5337792642140469, 0.4944944944944945)"
            ]
          },
          "execution_count": 149,
          "metadata": {},
          "output_type": "execute_result"
        }
      ],
      "source": [
        "from sklearn.naive_bayes import GaussianNB\n",
        "model = GaussianNB()\n",
        "Ctrain = (Ytrain > 0)\n",
        "Ctest = (Ytest > 0)\n",
        "model.fit(Xtrain, Ctrain)\n",
        "model.score(Xtrain, Ctrain), model.score(Xtest, Ctest)"
      ]
    },
    {
      "cell_type": "code",
      "execution_count": 150,
      "metadata": {},
      "outputs": [
        {
          "data": {
            "text/plain": [
              "({False, True}, {False, True})"
            ]
          },
          "execution_count": 150,
          "metadata": {},
          "output_type": "execute_result"
        }
      ],
      "source": [
        "Ptrain = model.predict(Xtrain)\n",
        "Ptest = model.predict(Xtest)\n",
        "df_returns.loc[train_idx,'Position'] = Ptrain\n",
        "df_returns.loc[test_idx,'Position'] = Ptest\n",
        "df_returns['AlgoReturn'] = df_returns['Position'] * df_returns['BOVA11.SA']\n",
        "set(Ptrain), set(Ptest)"
      ]
    },
    {
      "cell_type": "code",
      "execution_count": 151,
      "metadata": {},
      "outputs": [
        {
          "data": {
            "text/plain": [
              "0.5476056785565296"
            ]
          },
          "execution_count": 151,
          "metadata": {},
          "output_type": "execute_result"
        }
      ],
      "source": [
        "# Total algo log return train\n",
        "df_returns.iloc[1:-Ntest]['AlgoReturn'].sum()"
      ]
    },
    {
      "cell_type": "code",
      "execution_count": 152,
      "metadata": {},
      "outputs": [
        {
          "data": {
            "text/plain": [
              "0.52216365469633"
            ]
          },
          "execution_count": 152,
          "metadata": {},
          "output_type": "execute_result"
        }
      ],
      "source": [
        "# Total algo log return test\n",
        "df_returns.iloc[-Ntest:-1]['AlgoReturn'].sum()"
      ]
    },
    {
      "cell_type": "code",
      "execution_count": 153,
      "metadata": {},
      "outputs": [
        {
          "data": {
            "text/plain": [
              "(0.009545528468686336, 0.038373090079321846)"
            ]
          },
          "execution_count": 153,
          "metadata": {},
          "output_type": "execute_result"
        }
      ],
      "source": [
        "#std and SR algo train\n",
        "df_returns.iloc[1:-Ntest]['AlgoReturn'].std(), df_returns.iloc[1:-Ntest]['AlgoReturn'].mean()/df_returns.iloc[1:-Ntest]['AlgoReturn'].std()"
      ]
    },
    {
      "cell_type": "code",
      "execution_count": 154,
      "metadata": {},
      "outputs": [
        {
          "data": {
            "text/plain": [
              "(0.005906268119430871, 0.08849688677657484)"
            ]
          },
          "execution_count": 154,
          "metadata": {},
          "output_type": "execute_result"
        }
      ],
      "source": [
        "#std and SR algo test\n",
        "df_returns.iloc[-Ntest:-1]['AlgoReturn'].std(), df_returns.iloc[-Ntest:-1]['AlgoReturn'].mean()/df_returns.iloc[-Ntest:-1]['AlgoReturn'].std()"
      ]
    },
    {
      "cell_type": "code",
      "execution_count": 155,
      "metadata": {},
      "outputs": [
        {
          "data": {
            "text/plain": [
              "(0.5337792642140469, 0.4944944944944945)"
            ]
          },
          "execution_count": 155,
          "metadata": {},
          "output_type": "execute_result"
        }
      ],
      "source": [
        "accuracy_score(Ctrain,Ptrain), accuracy_score(Ctest,Ptest)"
      ]
    },
    {
      "cell_type": "code",
      "execution_count": 156,
      "metadata": {},
      "outputs": [
        {
          "data": {
            "text/plain": [
              "(0.5463137996219282, 0.611764705882353)"
            ]
          },
          "execution_count": 156,
          "metadata": {},
          "output_type": "execute_result"
        }
      ],
      "source": [
        "precision_score(Ctrain,Ptrain), precision_score(Ctest,Ptest)"
      ]
    },
    {
      "cell_type": "code",
      "execution_count": 157,
      "metadata": {},
      "outputs": [
        {
          "data": {
            "text/plain": [
              "(0.45333333333333325, 0.17077175697865352)"
            ]
          },
          "execution_count": 157,
          "metadata": {},
          "output_type": "execute_result"
        }
      ],
      "source": [
        "f1_score(Ctrain,Ptrain), f1_score(Ctest,Ptest)"
      ]
    },
    {
      "cell_type": "code",
      "execution_count": 158,
      "metadata": {},
      "outputs": [
        {
          "data": {
            "text/plain": [
              "(0.5334861137459418, 0.5148814785054239)"
            ]
          },
          "execution_count": 158,
          "metadata": {},
          "output_type": "execute_result"
        }
      ],
      "source": [
        "roc_auc_score(Ctrain,Ptrain), roc_auc_score(Ctest,Ptest)"
      ]
    },
    {
      "cell_type": "code",
      "execution_count": 159,
      "metadata": {},
      "outputs": [
        {
          "data": {
            "text/plain": [
              "(0.35332648853093107, 0.08436759817132766)"
            ]
          },
          "execution_count": 159,
          "metadata": {},
          "output_type": "execute_result"
        }
      ],
      "source": [
        "# MSE\n",
        "mean_squared_error(Ytrain, Ptrain), mean_squared_error(Ytest, Ptest)"
      ]
    },
    {
      "cell_type": "code",
      "execution_count": 160,
      "metadata": {},
      "outputs": [
        {
          "data": {
            "text/plain": [
              "(0.5944127257478015, 0.2904610097264823)"
            ]
          },
          "execution_count": 160,
          "metadata": {},
          "output_type": "execute_result"
        }
      ],
      "source": [
        "# RMSE\n",
        "mean_squared_error(Ytrain, Ptrain, squared=False), mean_squared_error(Ytest, Ptest, squared=False)"
      ]
    },
    {
      "cell_type": "code",
      "execution_count": 161,
      "metadata": {},
      "outputs": [
        {
          "data": {
            "text/plain": [
              "(0.360173971841477, 0.09529894719233141)"
            ]
          },
          "execution_count": 161,
          "metadata": {},
          "output_type": "execute_result"
        }
      ],
      "source": [
        "# MAE\n",
        "mean_absolute_error(Ytrain, Ptrain), mean_absolute_error(Ytest, Ptest) "
      ]
    },
    {
      "cell_type": "code",
      "execution_count": 162,
      "metadata": {},
      "outputs": [
        {
          "data": {
            "text/plain": [
              "(-1658.684702906979, -256.39941463321935)"
            ]
          },
          "execution_count": 162,
          "metadata": {},
          "output_type": "execute_result"
        }
      ],
      "source": [
        "# R^2\n",
        "r2_score(Ytrain, Ptrain), r2_score(Ytest, Ptest)"
      ]
    },
    {
      "cell_type": "code",
      "execution_count": 163,
      "metadata": {},
      "outputs": [
        {
          "data": {
            "text/plain": [
              "(39161735890275.555, 20.324165356568646)"
            ]
          },
          "execution_count": 163,
          "metadata": {},
          "output_type": "execute_result"
        }
      ],
      "source": [
        "# MAPE\n",
        "mean_absolute_percentage_error(Ytrain, Ptrain), mean_absolute_percentage_error(Ytest, Ptest)"
      ]
    },
    {
      "cell_type": "code",
      "execution_count": 164,
      "metadata": {},
      "outputs": [
        {
          "data": {
            "text/plain": [
              "1.9908726781878654"
            ]
          },
          "execution_count": 164,
          "metadata": {},
          "output_type": "execute_result"
        }
      ],
      "source": [
        "#sMAPE train\n",
        "def smape(Ytrain, Ptrain):\n",
        "    numerator = np.abs(Ytrain - Ptrain)\n",
        "    denominator = (np.abs(Ytrain) + np.abs(Ptrain)) / 2\n",
        "    ratio = numerator / denominator\n",
        "    return ratio.mean()\n",
        "\n",
        "smape(Ytrain, Ptrain)"
      ]
    },
    {
      "cell_type": "code",
      "execution_count": 165,
      "metadata": {},
      "outputs": [
        {
          "data": {
            "text/plain": [
              "1.9965549450880964"
            ]
          },
          "execution_count": 165,
          "metadata": {},
          "output_type": "execute_result"
        }
      ],
      "source": [
        "#sMAPE test\n",
        "def smape(Ytest, Ptest):\n",
        "    numerator = np.abs(Ytest - Ptest)\n",
        "    denominator = (np.abs(Ytest) + np.abs(Ptest)) / 2\n",
        "    ratio = numerator / denominator\n",
        "    return ratio.mean()\n",
        "\n",
        "smape(Ytest, Ptest)"
      ]
    },
    {
      "cell_type": "code",
      "execution_count": 166,
      "metadata": {},
      "outputs": [
        {
          "data": {
            "text/plain": [
              "614"
            ]
          },
          "execution_count": 166,
          "metadata": {},
          "output_type": "execute_result"
        }
      ],
      "source": [
        "#df_returns['Position'].to_csv('NBGCBool.csv', index = True)\n",
        "sum(df_returns['Position'])"
      ]
    }
  ],
  "metadata": {
    "colab": {
      "collapsed_sections": [],
      "name": "Regression-Based Strategy 0-1.ipynb",
      "provenance": []
    },
    "kernelspec": {
      "display_name": "Python 3.9.13 ('tensorflow')",
      "language": "python",
      "name": "python3"
    },
    "language_info": {
      "codemirror_mode": {
        "name": "ipython",
        "version": 3
      },
      "file_extension": ".py",
      "mimetype": "text/x-python",
      "name": "python",
      "nbconvert_exporter": "python",
      "pygments_lexer": "ipython3",
      "version": "3.9.13"
    },
    "vscode": {
      "interpreter": {
        "hash": "785b17f8303b92f386ca1e7c7962cda4fc2232ade37a6e2c932d748c6437bfae"
      }
    }
  },
  "nbformat": 4,
  "nbformat_minor": 0
}
