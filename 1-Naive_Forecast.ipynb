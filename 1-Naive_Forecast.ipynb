{
  "cells": [
    {
      "cell_type": "code",
      "execution_count": 1,
      "metadata": {
        "id": "IYZk2gib8oLU"
      },
      "outputs": [],
      "source": [
        "import numpy as np\n",
        "import pandas as pd"
      ]
    },
    {
      "cell_type": "code",
      "execution_count": null,
      "metadata": {
        "id": "y2NWBjJs81Yo"
      },
      "outputs": [],
      "source": [
        "from sklearn.metrics import mean_absolute_percentage_error, \\\n",
        "  mean_absolute_error, r2_score, mean_squared_error, accuracy_score,precision_score,f1_score,roc_auc_score"
      ]
    },
    {
      "cell_type": "code",
      "execution_count": null,
      "metadata": {
        "id": "7ZFsFFnl9ZyD"
      },
      "outputs": [],
      "source": [
        "df = pd.read_csv('IBRX-returns.csv', index_col='Date', parse_dates=True)"
      ]
    },
    {
      "cell_type": "code",
      "execution_count": null,
      "metadata": {},
      "outputs": [],
      "source": [
        "df_returns = pd.read_csv('IBRX-returns.csv', index_col=0, parse_dates=True)\n"
      ]
    },
    {
      "cell_type": "code",
      "execution_count": null,
      "metadata": {},
      "outputs": [],
      "source": [
        "df_returns.head()"
      ]
    },
    {
      "cell_type": "code",
      "execution_count": null,
      "metadata": {
        "colab": {
          "base_uri": "https://localhost:8080/",
          "height": 234
        },
        "id": "1fjt76Os9bYQ",
        "outputId": "69cf3143-c7eb-4c0b-f1f4-d9d3f9a4809b"
      },
      "outputs": [],
      "source": [
        "df.head()"
      ]
    },
    {
      "cell_type": "code",
      "execution_count": null,
      "metadata": {
        "id": "nz2cGMIY9fKb"
      },
      "outputs": [],
      "source": [
        "df['PREDICTION'] = df['BOVA11.SA'].shift(1)"
      ]
    },
    {
      "cell_type": "code",
      "execution_count": null,
      "metadata": {
        "id": "rIwhDJc59o4q"
      },
      "outputs": [],
      "source": [
        "ytrain_true = df.iloc[2:-1000]['BOVA11.SA']\n",
        "ytrain_pred = df.iloc[2:-1000]['PREDICTION']"
      ]
    },
    {
      "cell_type": "code",
      "execution_count": null,
      "metadata": {},
      "outputs": [],
      "source": [
        "Ctrain_true = (ytrain_true > 0)\n",
        "Ctrain_pred = (ytrain_pred > 0)"
      ]
    },
    {
      "cell_type": "code",
      "execution_count": null,
      "metadata": {},
      "outputs": [],
      "source": [
        "ytest_true = df.iloc[-1000:]['BOVA11.SA']\n",
        "ytest_pred = df.iloc[-1000:]['PREDICTION']"
      ]
    },
    {
      "cell_type": "code",
      "execution_count": null,
      "metadata": {},
      "outputs": [],
      "source": [
        "Ctest_true = (ytest_true > 0)\n",
        "Ctest_pred = (ytest_pred > 0)"
      ]
    },
    {
      "cell_type": "code",
      "execution_count": null,
      "metadata": {},
      "outputs": [],
      "source": [
        "df_returns['BOVA11.SA'] = df_returns['BOVA11.SA'].shift(-1)\n",
        "df_returns['BOVA11.SA'].tail()"
      ]
    },
    {
      "cell_type": "code",
      "execution_count": null,
      "metadata": {},
      "outputs": [],
      "source": [
        "train_idx = df.index <= Ctrain_pred.index[-1]\n",
        "test_idx = df.index > Ctrain_pred.index[-1]\n",
        "\n",
        "train_idx[0] = False\n",
        "test_idx[-1] = False"
      ]
    },
    {
      "cell_type": "code",
      "execution_count": null,
      "metadata": {},
      "outputs": [],
      "source": [
        "df_returns['Position'] = 0 # create new column\n",
        "df_returns.loc[train_idx,'Position'] = (Ctrain_pred > 0)\n",
        "df_returns.loc[test_idx,'Position'] = (Ctest_pred > 0)"
      ]
    },
    {
      "cell_type": "code",
      "execution_count": null,
      "metadata": {},
      "outputs": [],
      "source": [
        "df_returns['AlgoReturn'] = df_returns['Position'] * df_returns['BOVA11.SA']"
      ]
    },
    {
      "cell_type": "code",
      "execution_count": null,
      "metadata": {},
      "outputs": [],
      "source": [
        "# Total algorithm log return in train period\n",
        "df_returns.iloc[1:-1000]['AlgoReturn'].sum() #train return"
      ]
    },
    {
      "cell_type": "code",
      "execution_count": null,
      "metadata": {},
      "outputs": [],
      "source": [
        "# Total algorithm log return in test period \n",
        "df_returns.iloc[-1000:-1]['AlgoReturn'].sum() #test return"
      ]
    },
    {
      "cell_type": "code",
      "execution_count": null,
      "metadata": {},
      "outputs": [],
      "source": [
        "# Total performance (train and test sets)\n",
        "df_returns['AlgoReturn'].sum()"
      ]
    },
    {
      "cell_type": "code",
      "execution_count": null,
      "metadata": {},
      "outputs": [],
      "source": [
        "#std and SR algo train\n",
        "df_returns.iloc[1:-1000]['AlgoReturn'].std(), df_returns.iloc[1:-1000]['AlgoReturn'].mean()/df_returns.iloc[1:-1000]['AlgoReturn'].std()"
      ]
    },
    {
      "cell_type": "code",
      "execution_count": null,
      "metadata": {},
      "outputs": [],
      "source": [
        "#std and SR algo test\n",
        "df_returns.iloc[-1000:-1]['AlgoReturn'].std(), df_returns.iloc[-1000:-1]['AlgoReturn'].mean()/df_returns.iloc[-1000:-1]['AlgoReturn'].std()"
      ]
    },
    {
      "cell_type": "markdown",
      "metadata": {
        "id": "u72BInqxAK1p"
      },
      "source": [
        "## Metrics\n",
        "\n",
        "Main idea: get a feel for how the values relate to one another. What's \"good\"? What's \"bad\"? If the $R^2$ is \"good\", will the MAE also be \"good\"?"
      ]
    },
    {
      "cell_type": "code",
      "execution_count": null,
      "metadata": {},
      "outputs": [],
      "source": [
        "accuracy_score(Ctrain_true,Ctrain_pred), accuracy_score(Ctest_true,Ctest_pred)"
      ]
    },
    {
      "cell_type": "code",
      "execution_count": null,
      "metadata": {},
      "outputs": [],
      "source": [
        "precision_score(Ctrain_true,Ctrain_pred), precision_score(Ctest_true,Ctest_pred)"
      ]
    },
    {
      "cell_type": "code",
      "execution_count": null,
      "metadata": {},
      "outputs": [],
      "source": [
        "f1_score(Ctrain_true,Ctrain_pred), f1_score(Ctest_true,Ctest_pred)"
      ]
    },
    {
      "cell_type": "code",
      "execution_count": null,
      "metadata": {},
      "outputs": [],
      "source": [
        "roc_auc_score(Ctrain_true,Ctrain_pred), roc_auc_score(Ctest_true,Ctest_pred)"
      ]
    },
    {
      "cell_type": "code",
      "execution_count": null,
      "metadata": {
        "colab": {
          "base_uri": "https://localhost:8080/"
        },
        "id": "5sugOCAk96Mk",
        "outputId": "4496cd04-aeb3-4288-c0f9-36e3ba9acc55"
      },
      "outputs": [],
      "source": [
        "# MSE\n",
        "mean_squared_error(ytrain_true, ytrain_pred), mean_squared_error(ytest_true, ytest_pred)"
      ]
    },
    {
      "cell_type": "code",
      "execution_count": null,
      "metadata": {
        "colab": {
          "base_uri": "https://localhost:8080/"
        },
        "id": "s9Hk8tXy-BJI",
        "outputId": "f42eb733-ec5c-4c45-99a3-7aab71a09ba1"
      },
      "outputs": [],
      "source": [
        "# RMSE\n",
        "mean_squared_error(ytrain_true, ytrain_pred, squared=False), mean_squared_error(ytest_true, ytest_pred, squared=False)"
      ]
    },
    {
      "cell_type": "code",
      "execution_count": null,
      "metadata": {
        "colab": {
          "base_uri": "https://localhost:8080/"
        },
        "id": "RhJCrN7W-Wuu",
        "outputId": "69d60f45-6555-4c39-8aaa-b09d34c3af71"
      },
      "outputs": [],
      "source": [
        "# MAE\n",
        "mean_absolute_error(ytrain_true, ytrain_pred), mean_absolute_error(ytest_true, ytest_pred)"
      ]
    },
    {
      "cell_type": "code",
      "execution_count": null,
      "metadata": {
        "colab": {
          "base_uri": "https://localhost:8080/"
        },
        "id": "mo3xvmsI_DuN",
        "outputId": "53be2d36-b19b-4f78-96bf-f8164cd78a15"
      },
      "outputs": [],
      "source": [
        "# R^2\n",
        "r2_score(ytrain_true, ytrain_pred), r2_score(ytest_true, ytest_pred)"
      ]
    },
    {
      "cell_type": "code",
      "execution_count": null,
      "metadata": {
        "colab": {
          "base_uri": "https://localhost:8080/"
        },
        "id": "8Re224xz9vIe",
        "outputId": "fcb4a210-37cd-4c84-f01f-dadd991beeaf"
      },
      "outputs": [],
      "source": [
        "# MAPE\n",
        "mean_absolute_percentage_error(ytrain_true, ytrain_pred), mean_absolute_percentage_error(ytest_true, ytest_pred)"
      ]
    },
    {
      "cell_type": "markdown",
      "metadata": {
        "id": "uQ30WP_t-zV7"
      },
      "source": [
        "## sMAPE\n",
        "\n",
        "$$ E = \\frac{1}{N} \\sum_{i=1}^N \\frac{|y_i - \\hat{y}_i|}{(|y_i| + |\\hat{y}_i|)/2} $$"
      ]
    },
    {
      "cell_type": "code",
      "execution_count": null,
      "metadata": {
        "colab": {
          "base_uri": "https://localhost:8080/"
        },
        "id": "TIe3ybxk-efx",
        "outputId": "a998d83b-4efa-43b8-91b7-af54e17e05af"
      },
      "outputs": [],
      "source": [
        "# sMAPE\n",
        "def smape(y_true, y_pred):\n",
        "  numerator = np.abs(y_true - y_pred)\n",
        "  denominator = (np.abs(y_true) + np.abs(y_pred)) / 2\n",
        "  ratio = numerator / denominator\n",
        "  return ratio.mean()\n",
        "\n",
        "smape(ytrain_true, ytrain_pred), smape(ytest_true, ytest_pred)"
      ]
    }
  ],
  "metadata": {
    "colab": {
      "name": "Naive Forecast.ipynb",
      "provenance": []
    },
    "kernelspec": {
      "display_name": "Python 3.9.13 ('base')",
      "language": "python",
      "name": "python3"
    },
    "language_info": {
      "codemirror_mode": {
        "name": "ipython",
        "version": 3
      },
      "file_extension": ".py",
      "mimetype": "text/x-python",
      "name": "python",
      "nbconvert_exporter": "python",
      "pygments_lexer": "ipython3",
      "version": "3.9.13"
    },
    "vscode": {
      "interpreter": {
        "hash": "9be23f8116f0cf1bcdf63490fc8e19dfd3dc4b0d45a799a9723af3ef27365e2e"
      }
    }
  },
  "nbformat": 4,
  "nbformat_minor": 0
}
